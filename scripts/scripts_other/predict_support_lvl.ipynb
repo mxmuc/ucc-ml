{
 "cells": [
  {
   "cell_type": "markdown",
   "metadata": {
    "id": "y4ylosxkyQ6P"
   },
   "source": [
    "## **ML Model 2**\n",
    "## Predict Support Level based on Number of Editors"
   ]
  },
  {
   "cell_type": "markdown",
   "metadata": {
    "id": "rvcdy8vt0TWo"
   },
   "source": [
    "#### **German Support Tickets**"
   ]
  },
  {
   "cell_type": "code",
   "execution_count": null,
   "metadata": {
    "id": "St3E6uq3pHJV"
   },
   "outputs": [],
   "source": [
    "import pandas as pd\n",
    "import numpy as np"
   ]
  },
  {
   "cell_type": "code",
   "execution_count": null,
   "metadata": {
    "id": "ESRH6A3wpVcX"
   },
   "outputs": [],
   "source": [
    "# PLEASE ADAPT PATH ACCORDINGLY\n",
    "DATA_PATH  = '../../data/tickets_postprp.pkl'\n",
    "\n",
    "df = pd.read_pickle(DATA_PATH)\n",
    "df.info()\n"
   ]
  },
  {
   "cell_type": "code",
   "execution_count": null,
   "metadata": {
    "colab": {
     "base_uri": "https://localhost:8080/",
     "height": 479
    },
    "id": "CWT3gcSK5vEl",
    "outputId": "98e3fa3b-660b-4035-9dc1-d0c575ff2f98"
   },
   "outputs": [
    {
     "data": {
      "text/html": [
       "<div>\n",
       "<style scoped>\n",
       "    .dataframe tbody tr th:only-of-type {\n",
       "        vertical-align: middle;\n",
       "    }\n",
       "\n",
       "    .dataframe tbody tr th {\n",
       "        vertical-align: top;\n",
       "    }\n",
       "\n",
       "    .dataframe thead th {\n",
       "        text-align: right;\n",
       "    }\n",
       "</style>\n",
       "<table border=\"1\" class=\"dataframe\">\n",
       "  <thead>\n",
       "    <tr style=\"text-align: right;\">\n",
       "      <th></th>\n",
       "      <th>kategorie_id</th>\n",
       "      <th>kategorietext</th>\n",
       "      <th>unterkategorie_id</th>\n",
       "      <th>unterkategorietext</th>\n",
       "      <th>status</th>\n",
       "      <th>angelegt_am</th>\n",
       "      <th>angelegt_von</th>\n",
       "      <th>auftraggeber</th>\n",
       "      <th>meldender</th>\n",
       "      <th>embedding</th>\n",
       "      <th>max_similarity</th>\n",
       "      <th>min_difference</th>\n",
       "      <th>faq_index_max_sim</th>\n",
       "      <th>faq_index_min_dif</th>\n",
       "      <th>num_editors</th>\n",
       "      <th>language</th>\n",
       "    </tr>\n",
       "  </thead>\n",
       "  <tbody>\n",
       "    <tr>\n",
       "      <th>0</th>\n",
       "      <td>ZSD_SR_AA</td>\n",
       "      <td>Allgemeine Anfragen</td>\n",
       "      <td>ZSD_SR_AA_SON</td>\n",
       "      <td>Sonstiges</td>\n",
       "      <td>E0008 Quittiert</td>\n",
       "      <td>1.448477e+09</td>\n",
       "      <td>H2451TK1</td>\n",
       "      <td>H2451</td>\n",
       "      <td>H2451TK1</td>\n",
       "      <td>[0.14102867, 0.87266093, 1.3615568, 0.51052284...</td>\n",
       "      <td>0.591029</td>\n",
       "      <td>9.864998</td>\n",
       "      <td>12</td>\n",
       "      <td>14</td>\n",
       "      <td>2</td>\n",
       "      <td>de</td>\n",
       "    </tr>\n",
       "    <tr>\n",
       "      <th>1</th>\n",
       "      <td>ZSD_SR_BO</td>\n",
       "      <td>SAP Netweaver Business Objects</td>\n",
       "      <td>SR_ZSD_BO_FP</td>\n",
       "      <td>Fallstudienproblem</td>\n",
       "      <td>E0008 Quittiert</td>\n",
       "      <td>1.448546e+09</td>\n",
       "      <td>H2741CR1</td>\n",
       "      <td>H2741</td>\n",
       "      <td>H2741CR1</td>\n",
       "      <td>[-0.34037295, 1.1536975, 0.8353497, 0.52754015...</td>\n",
       "      <td>0.645721</td>\n",
       "      <td>9.467989</td>\n",
       "      <td>12</td>\n",
       "      <td>18</td>\n",
       "      <td>0</td>\n",
       "      <td>de</td>\n",
       "    </tr>\n",
       "    <tr>\n",
       "      <th>2</th>\n",
       "      <td>ZSD_SR_BO</td>\n",
       "      <td>SAP Netweaver Business Objects</td>\n",
       "      <td>SR_ZSD_BO_FP</td>\n",
       "      <td>Fallstudienproblem</td>\n",
       "      <td>E0008 Quittiert</td>\n",
       "      <td>1.448549e+09</td>\n",
       "      <td>H2741CR1</td>\n",
       "      <td>H2741</td>\n",
       "      <td>H2741CR1</td>\n",
       "      <td>[-0.33647916, 1.0358676, 1.183024, 0.33042786,...</td>\n",
       "      <td>0.666763</td>\n",
       "      <td>7.828650</td>\n",
       "      <td>12</td>\n",
       "      <td>14</td>\n",
       "      <td>1</td>\n",
       "      <td>de</td>\n",
       "    </tr>\n",
       "    <tr>\n",
       "      <th>3</th>\n",
       "      <td>ZSD_SR_BYD</td>\n",
       "      <td>SAP Business by Design</td>\n",
       "      <td>ZSD_SR_BYD_PRM</td>\n",
       "      <td>Passwortrücksetzung für Masteruser</td>\n",
       "      <td>E0008 Quittiert</td>\n",
       "      <td>1.448560e+09</td>\n",
       "      <td>H2851GB2</td>\n",
       "      <td>H2851</td>\n",
       "      <td>H2851GB2</td>\n",
       "      <td>[-0.1209006, 0.41539708, 1.6555126, 0.09115197...</td>\n",
       "      <td>0.552797</td>\n",
       "      <td>11.220666</td>\n",
       "      <td>12</td>\n",
       "      <td>17</td>\n",
       "      <td>1</td>\n",
       "      <td>de</td>\n",
       "    </tr>\n",
       "    <tr>\n",
       "      <th>4</th>\n",
       "      <td>ZSD_SR_GBI</td>\n",
       "      <td>SAP ERP GBI</td>\n",
       "      <td>ZSD_SR_GBI_SON</td>\n",
       "      <td>Sonstiges</td>\n",
       "      <td>E0008 Quittiert</td>\n",
       "      <td>1.448878e+09</td>\n",
       "      <td>H2702AR1</td>\n",
       "      <td>H2702</td>\n",
       "      <td>H2702AR1</td>\n",
       "      <td>[-0.21527165, 1.3987509, 0.267509, 0.24152803,...</td>\n",
       "      <td>0.526619</td>\n",
       "      <td>9.676493</td>\n",
       "      <td>9</td>\n",
       "      <td>17</td>\n",
       "      <td>1</td>\n",
       "      <td>de</td>\n",
       "    </tr>\n",
       "  </tbody>\n",
       "</table>\n",
       "</div>"
      ],
      "text/plain": [
       "  kategorie_id                    kategorietext  ... num_editors language\n",
       "0   ZSD_SR_AA              Allgemeine Anfragen   ...           2       de\n",
       "1   ZSD_SR_BO   SAP Netweaver Business Objects   ...           0       de\n",
       "2   ZSD_SR_BO   SAP Netweaver Business Objects   ...           1       de\n",
       "3  ZSD_SR_BYD           SAP Business by Design   ...           1       de\n",
       "4  ZSD_SR_GBI                      SAP ERP GBI   ...           1       de\n",
       "\n",
       "[5 rows x 16 columns]"
      ]
     },
     "execution_count": 63,
     "metadata": {
      "tags": []
     },
     "output_type": "execute_result"
    }
   ],
   "source": [
    "df_german = df[df['language'] == 'de']\n",
    "\n",
    "# for later\n",
    "df_english = df[df['language'] == 'en']\n",
    "\n",
    "df = df_german\n",
    "df.head()"
   ]
  },
  {
   "cell_type": "code",
   "execution_count": null,
   "metadata": {
    "colab": {
     "base_uri": "https://localhost:8080/"
    },
    "id": "Ue4R8HyPq7JM",
    "outputId": "5a697c43-8562-4ab2-c264-c5661038bf50"
   },
   "outputs": [
    {
     "data": {
      "text/plain": [
       "(('train', (7651, 16)), ('test', (1913, 16)))"
      ]
     },
     "execution_count": 53,
     "metadata": {
      "tags": []
     },
     "output_type": "execute_result"
    }
   ],
   "source": [
    "# split the dataset\n",
    "from sklearn.model_selection import train_test_split\n",
    "\n",
    "train_data, test_data = train_test_split(df, test_size=0.2, random_state=21, shuffle=True)\n",
    "\n",
    "(\"train\", train_data.shape), (\"test\" ,test_data.shape)"
   ]
  },
  {
   "cell_type": "code",
   "execution_count": null,
   "metadata": {
    "colab": {
     "base_uri": "https://localhost:8080/"
    },
    "id": "7_DEvRpWsPZO",
    "outputId": "5767be25-1de0-4ab8-e850-d374bfed2a5a"
   },
   "outputs": [
    {
     "name": "stdout",
     "output_type": "stream",
     "text": [
      "train data ('features', (7651, 15)) ('target', (7651,))\n",
      "test data ('features', (1913, 15)) ('target', (1913,))\n"
     ]
    }
   ],
   "source": [
    "get_features_label = lambda df, label_name: (df.drop(label_name, axis=1), df[label_name])\n",
    "\n",
    "train_X, train_y = get_features_label(train_data, \"num_editors\")\n",
    "test_X, test_y = get_features_label(test_data, \"num_editors\")\n",
    "\n",
    "print(\"train data\", (\"features\", train_X.shape), (\"target\", train_y.shape))\n",
    "print(\"test data\", (\"features\", test_X.shape), (\"target\", test_y.shape))"
   ]
  },
  {
   "cell_type": "code",
   "execution_count": null,
   "metadata": {
    "id": "35tyTB8t0kDB"
   },
   "outputs": [],
   "source": [
    "from sklearn.pipeline import Pipeline\n",
    "from sklearn.compose import ColumnTransformer \n",
    "from sklearn.preprocessing import OneHotEncoder\n",
    "from sklearn.metrics import mean_squared_error\n",
    "\n",
    "# make sure to have these lists to select numerical and categorical features accordingly\n",
    "categorical_features = ['kategorie_id', 'kategorietext', 'unterkategorie_id', 'unterkategorietext', 'angelegt_von', 'auftraggeber', 'meldender']\n",
    "\n",
    "\n",
    "# cateogrical transformations (encoding)\n",
    "cat_transformer = Pipeline([\n",
    "        ('encoder', OneHotEncoder(handle_unknown = 'ignore')),])\n",
    "\n",
    "# use the ColumnTransformer to map the transformations to the respective features\n",
    "preprocessor = ColumnTransformer([\n",
    "        (\"categorical\", cat_transformer, categorical_features),])\n",
    "\n",
    "# fit and transform the data and store it in preprocessed_X\n",
    "preprocessed_X = preprocessor.fit_transform(train_X)"
   ]
  },
  {
   "cell_type": "code",
   "execution_count": null,
   "metadata": {
    "id": "r5llXwhp1IT2"
   },
   "outputs": [],
   "source": [
    "def fit_evaluate_model(model, preprocessor, train_X, train_y, test_X, test_y):\n",
    "\n",
    "    # fit model to the preprocessed training data\n",
    "    model.fit(preprocessed_X, train_y)\n",
    "\n",
    "    # check and print performance on training data\n",
    "    print(\"Training Accuracy: \", model.score(preprocessed_X, train_y))\n",
    "\n",
    "    # transform test data using the preprocesser we have\n",
    "    transformed_test_X = preprocessor.transform(test_X)\n",
    "\n",
    "    # check and print performance on test data\n",
    "    print(\"Test Accuracy: \", model.score(transformed_test_X, test_y))\n",
    "    \n",
    "    # print mean squared error on train and test\n",
    "    print(\"Training Error: \", mean_squared_error(train_y, model.predict(preprocessed_X)))\n",
    "    print(\"Testing Error: \", mean_squared_error(test_y, model.predict(transformed_test_X)))\n",
    "\n",
    "    return model"
   ]
  },
  {
   "cell_type": "code",
   "execution_count": null,
   "metadata": {
    "colab": {
     "base_uri": "https://localhost:8080/"
    },
    "id": "aKWocu-PtUZJ",
    "outputId": "769c6bad-2522-4a32-9456-d455a0e1dfef"
   },
   "outputs": [
    {
     "name": "stdout",
     "output_type": "stream",
     "text": [
      "Training Accuracy:  0.8023787740164684\n",
      "Test Accuracy:  0.6811291165708312\n",
      "Training Error:  0.27094497451313554\n",
      "Testing Error:  0.47046523784631467\n"
     ]
    },
    {
     "data": {
      "text/plain": [
       "RandomForestClassifier(bootstrap=True, ccp_alpha=0.0, class_weight=None,\n",
       "                       criterion='gini', max_depth=None, max_features='auto',\n",
       "                       max_leaf_nodes=None, max_samples=None,\n",
       "                       min_impurity_decrease=0.0, min_impurity_split=None,\n",
       "                       min_samples_leaf=1, min_samples_split=2,\n",
       "                       min_weight_fraction_leaf=0.0, n_estimators=100,\n",
       "                       n_jobs=None, oob_score=False, random_state=None,\n",
       "                       verbose=0, warm_start=False)"
      ]
     },
     "execution_count": 57,
     "metadata": {
      "tags": []
     },
     "output_type": "execute_result"
    }
   ],
   "source": [
    "from sklearn.ensemble import RandomForestClassifier\n",
    "\n",
    "model = RandomForestClassifier()\n",
    "fit_evaluate_model(model, preprocessor, train_X, train_y, test_X, test_y)\n"
   ]
  },
  {
   "cell_type": "code",
   "execution_count": null,
   "metadata": {
    "colab": {
     "base_uri": "https://localhost:8080/"
    },
    "id": "76xEcukB8KUY",
    "outputId": "ae419ba7-285c-4f40-b789-06adf488d09f"
   },
   "outputs": [
    {
     "name": "stdout",
     "output_type": "stream",
     "text": [
      "Training Accuracy:  0.7502287282708143\n",
      "Test Accuracy:  0.6816518557239938\n",
      "Training Error:  0.34884328845902496\n",
      "Testing Error:  0.46366962885520124\n"
     ]
    },
    {
     "data": {
      "text/plain": [
       "LinearSVC(C=1.0, class_weight=None, dual=True, fit_intercept=True,\n",
       "          intercept_scaling=1, loss='squared_hinge', max_iter=1000,\n",
       "          multi_class='ovr', penalty='l2', random_state=None, tol=0.0001,\n",
       "          verbose=0)"
      ]
     },
     "execution_count": 21,
     "metadata": {
      "tags": []
     },
     "output_type": "execute_result"
    }
   ],
   "source": [
    "from sklearn import svm\n",
    "\n",
    "model = svm.LinearSVC()\n",
    "fit_evaluate_model(model, preprocessor, train_X, train_y, test_X, test_y)"
   ]
  },
  {
   "cell_type": "markdown",
   "metadata": {
    "id": "SE0eDf11l0UE"
   },
   "source": [
    "**Predict Support Level Based on Number of Editors**\n",
    "\n",
    "The result of both models are  not very satisfying for German tickets."
   ]
  },
  {
   "cell_type": "markdown",
   "metadata": {
    "id": "WvGKypZiPgZw"
   },
   "source": [
    "#### **English Support Tickets**"
   ]
  },
  {
   "cell_type": "markdown",
   "metadata": {
    "id": "-txjvjbb5W2t"
   },
   "source": [
    "As BERT was trained on English Wikipedia articles, we will now try to only use it for English support tickets"
   ]
  },
  {
   "cell_type": "code",
   "execution_count": null,
   "metadata": {
    "colab": {
     "base_uri": "https://localhost:8080/"
    },
    "id": "LaVQa91jPed_",
    "outputId": "81ae2479-1c48-4899-951e-5c82df921553"
   },
   "outputs": [
    {
     "name": "stdout",
     "output_type": "stream",
     "text": [
      "<class 'pandas.core.frame.DataFrame'>\n",
      "Int64Index: 2515 entries, 7 to 12182\n",
      "Data columns (total 16 columns):\n",
      " #   Column              Non-Null Count  Dtype  \n",
      "---  ------              --------------  -----  \n",
      " 0   kategorie_id        2515 non-null   object \n",
      " 1   kategorietext       2515 non-null   object \n",
      " 2   unterkategorie_id   2515 non-null   object \n",
      " 3   unterkategorietext  2515 non-null   object \n",
      " 4   status              2515 non-null   object \n",
      " 5   angelegt_am         2515 non-null   float64\n",
      " 6   angelegt_von        2515 non-null   object \n",
      " 7   auftraggeber        2515 non-null   object \n",
      " 8   meldender           2515 non-null   object \n",
      " 9   embedding           2515 non-null   object \n",
      " 10  max_similarity      2515 non-null   float64\n",
      " 11  min_difference      2515 non-null   float64\n",
      " 12  faq_index_max_sim   2515 non-null   int64  \n",
      " 13  faq_index_min_dif   2515 non-null   int64  \n",
      " 14  num_editors         2515 non-null   int64  \n",
      " 15  language            2515 non-null   object \n",
      "dtypes: float64(3), int64(3), object(10)\n",
      "memory usage: 334.0+ KB\n"
     ]
    }
   ],
   "source": [
    "df = df_english\n",
    "df.info()"
   ]
  },
  {
   "cell_type": "code",
   "execution_count": null,
   "metadata": {
    "colab": {
     "base_uri": "https://localhost:8080/"
    },
    "id": "k5WoJj-mUSLw",
    "outputId": "c1d867b3-e876-4843-dd25-29916167d1eb"
   },
   "outputs": [
    {
     "data": {
      "text/plain": [
       "(('train', (2012, 16)), ('test', (503, 16)))"
      ]
     },
     "execution_count": 72,
     "metadata": {
      "tags": []
     },
     "output_type": "execute_result"
    }
   ],
   "source": [
    "# split the dataset\n",
    "from sklearn.model_selection import train_test_split\n",
    "\n",
    "train_data, test_data = train_test_split(df, test_size=0.2, random_state=21, shuffle=True)\n",
    "\n",
    "(\"train\", train_data.shape), (\"test\" ,test_data.shape)"
   ]
  },
  {
   "cell_type": "code",
   "execution_count": null,
   "metadata": {
    "colab": {
     "base_uri": "https://localhost:8080/"
    },
    "id": "DHJ7BcdrUVcS",
    "outputId": "7d181303-b96c-49f7-d334-6e6bff4dc38d"
   },
   "outputs": [
    {
     "name": "stdout",
     "output_type": "stream",
     "text": [
      "train data ('features', (2012, 15)) ('target', (2012,))\n",
      "test data ('features', (503, 15)) ('target', (503,))\n"
     ]
    }
   ],
   "source": [
    "get_features_label = lambda df, label_name: (df.drop(label_name, axis=1), df[label_name])\n",
    "\n",
    "train_X, train_y = get_features_label(train_data, \"num_editors\")\n",
    "test_X, test_y = get_features_label(test_data, \"num_editors\")\n",
    "\n",
    "print(\"train data\", (\"features\", train_X.shape), (\"target\", train_y.shape))\n",
    "print(\"test data\", (\"features\", test_X.shape), (\"target\", test_y.shape))"
   ]
  },
  {
   "cell_type": "code",
   "execution_count": null,
   "metadata": {
    "id": "LMXs9RysU_od"
   },
   "outputs": [],
   "source": [
    "from sklearn.pipeline import Pipeline\n",
    "from sklearn.compose import ColumnTransformer \n",
    "from sklearn.preprocessing import OneHotEncoder\n",
    "from sklearn.metrics import mean_squared_error\n",
    "\n",
    "# make sure to have these lists to select numerical and categorical features accordingly\n",
    "categorical_features = ['kategorie_id', 'kategorietext', 'unterkategorie_id', 'unterkategorietext', 'angelegt_von', 'auftraggeber', 'meldender']\n",
    "\n",
    "\n",
    "# cateogrical transformations (encoding)\n",
    "cat_transformer = Pipeline([\n",
    "        ('encoder', OneHotEncoder(handle_unknown = 'ignore')),])\n",
    "\n",
    "# use the ColumnTransformer to map the transformations to the respective features\n",
    "preprocessor = ColumnTransformer([\n",
    "        (\"categorical\", cat_transformer, categorical_features),])\n",
    "\n",
    "# fit and transform the data and store it in preprocessed_X\n",
    "preprocessed_X = preprocessor.fit_transform(train_X)"
   ]
  },
  {
   "cell_type": "code",
   "execution_count": null,
   "metadata": {
    "id": "BUrozYMUVFR9"
   },
   "outputs": [],
   "source": [
    "def fit_evaluate_model(model, preprocessor, train_X, train_y, test_X, test_y):\n",
    "\n",
    "    # fit model to the preprocessed training data\n",
    "    model.fit(preprocessed_X, train_y)\n",
    "\n",
    "    # check and print performance on training data\n",
    "    print(\"Training Accuracy: \", model.score(preprocessed_X, train_y))\n",
    "\n",
    "    # transform test data using the preprocesser we have\n",
    "    transformed_test_X = preprocessor.transform(test_X)\n",
    "\n",
    "    # check and print performance on test data\n",
    "    print(\"Test Accuracy: \", model.score(transformed_test_X, test_y))\n",
    "    \n",
    "    # print mean squared error on train and test  \n",
    "    print(\"Training Error: \", mean_squared_error(train_y, model.predict(preprocessed_X)))\n",
    "    print(\"Testing Error: \", mean_squared_error(test_y, model.predict(transformed_test_X)))\n",
    "\n",
    "    return model"
   ]
  },
  {
   "cell_type": "code",
   "execution_count": null,
   "metadata": {
    "colab": {
     "base_uri": "https://localhost:8080/"
    },
    "id": "lKWk-D9QUd41",
    "outputId": "f1548e6b-6057-4d7e-fd03-ce827cc7dbd2"
   },
   "outputs": [
    {
     "name": "stdout",
     "output_type": "stream",
     "text": [
      "Training Accuracy:  0.7668986083499006\n",
      "Test Accuracy:  0.49105367793240556\n",
      "Training Error:  0.3543737574552684\n",
      "Testing Error:  0.8369781312127237\n"
     ]
    },
    {
     "data": {
      "text/plain": [
       "RandomForestClassifier(bootstrap=True, ccp_alpha=0.0, class_weight=None,\n",
       "                       criterion='gini', max_depth=None, max_features='auto',\n",
       "                       max_leaf_nodes=None, max_samples=None,\n",
       "                       min_impurity_decrease=0.0, min_impurity_split=None,\n",
       "                       min_samples_leaf=1, min_samples_split=2,\n",
       "                       min_weight_fraction_leaf=0.0, n_estimators=100,\n",
       "                       n_jobs=None, oob_score=False, random_state=None,\n",
       "                       verbose=0, warm_start=False)"
      ]
     },
     "execution_count": 76,
     "metadata": {
      "tags": []
     },
     "output_type": "execute_result"
    }
   ],
   "source": [
    "from sklearn.ensemble import RandomForestClassifier\n",
    "\n",
    "model = RandomForestClassifier()\n",
    "fit_evaluate_model(model, preprocessor, train_X, train_y, test_X, test_y)"
   ]
  },
  {
   "cell_type": "code",
   "execution_count": null,
   "metadata": {
    "colab": {
     "base_uri": "https://localhost:8080/"
    },
    "id": "umNm2Ro-VODb",
    "outputId": "e22a610a-729c-4c68-e04c-6496f868c7af"
   },
   "outputs": [
    {
     "name": "stdout",
     "output_type": "stream",
     "text": [
      "Training Accuracy:  0.6565606361829026\n",
      "Test Accuracy:  0.5089463220675944\n",
      "Training Error:  0.518389662027833\n",
      "Testing Error:  0.8349900596421471\n"
     ]
    },
    {
     "data": {
      "text/plain": [
       "LinearSVC(C=1.0, class_weight=None, dual=True, fit_intercept=True,\n",
       "          intercept_scaling=1, loss='squared_hinge', max_iter=1000,\n",
       "          multi_class='ovr', penalty='l2', random_state=None, tol=0.0001,\n",
       "          verbose=0)"
      ]
     },
     "execution_count": 77,
     "metadata": {
      "tags": []
     },
     "output_type": "execute_result"
    }
   ],
   "source": [
    "from sklearn import svm\n",
    "\n",
    "model = svm.LinearSVC()\n",
    "fit_evaluate_model(model, preprocessor, train_X, train_y, test_X, test_y)"
   ]
  },
  {
   "cell_type": "markdown",
   "metadata": {
    "id": "D6DYpTY3VQNT"
   },
   "source": [
    "**Predict Support Level Based on Number of Editors**\n",
    "\n",
    "The result of both models are even worse for English tickets. This migh be related to the fact, that the FAQs are only available in German. Hence, the similarity and distance features might not be that useful here.\n"
   ]
  }
 ],
 "metadata": {
  "colab": {
   "collapsed_sections": [],
   "name": "ML_Model_2_Predict_Support_Lvl.ipynb",
   "provenance": []
  },
  "kernelspec": {
   "display_name": "Python 3",
   "language": "python",
   "name": "python3"
  },
  "language_info": {
   "codemirror_mode": {
    "name": "ipython",
    "version": 3
   },
   "file_extension": ".py",
   "mimetype": "text/x-python",
   "name": "python",
   "nbconvert_exporter": "python",
   "pygments_lexer": "ipython3",
   "version": "3.8.2"
  }
 },
 "nbformat": 4,
 "nbformat_minor": 1
}
