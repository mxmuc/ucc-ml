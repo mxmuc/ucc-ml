{
 "cells": [
  {
   "cell_type": "markdown",
   "metadata": {},
   "source": [
    "# DISCLAIMER:\n",
    "\n",
    "### This script is dependent on our support level classifier. Recently we were able to improve our results even further by changing our model again, however, we did not adapt this script accordingly, for this reason it is no longer supported by us and may need adjustments. Yet, if you are interested, we still leave it here."
   ]
  },
  {
   "cell_type": "code",
   "execution_count": null,
   "metadata": {
    "id": "CiJRMf0WRM-1"
   },
   "outputs": [],
   "source": [
    "import os\n",
    "import torch\n",
    "import torch.nn as nn\n",
    "from torch.autograd import Variable\n",
    "import torchvision.datasets as dset\n",
    "import torchvision.transforms as transforms\n",
    "import torch.nn.functional as F\n",
    "import torch.optim as optim\n",
    "from sklearn.cluster import MiniBatchKMeans, KMeans"
   ]
  },
  {
   "cell_type": "code",
   "execution_count": null,
   "metadata": {
    "id": "VdKF2DOEQ9x_"
   },
   "outputs": [],
   "source": [
    "BERT_MODEL = 'bert-base-multilingual-cased'\n",
    "MODEL_PATH = '../../model/clf.bin' \n",
    "DATA_PATH  = '../../data/tickets_postprp.pkl'\n",
    "\n",
    "MAX_LEN    = 256\n",
    "BATCH_SIZE = 16\n",
    "EPOCHS     = 10\n",
    "TEST_SPLIT = 0.1\n",
    "VAL_SPLIT  = 0.5\n",
    "SEED       = 42\n",
    "\n",
    "DROPOUT     = 0.3\n",
    "HIDDEN_SIZE = 768"
   ]
  },
  {
   "cell_type": "code",
   "execution_count": null,
   "metadata": {
    "id": "dYfn9yHcwLRq"
   },
   "outputs": [],
   "source": [
    "class Classifier(nn.Module):\n",
    "  def __init__(self):\n",
    "    super(Classifier, self).__init__()\n",
    "    self.bert    = BertModel.from_pretrained(BERT_MODEL)\n",
    "    self.drop    = nn.Dropout(p = DROPOUT)\n",
    "    self.linear  = nn.Linear(HIDDEN_SIZE, 2)\n",
    "\n",
    "  def forward(self, input_ids, attention_mask):\n",
    "    last_hidden_state, pooler_output = \\\n",
    "      self.bert(\n",
    "        input_ids       = input_ids,\n",
    "        attention_mask  = attention_mask,\n",
    "        return_dict     = False\n",
    "      )\n",
    "\n",
    "    corrupted = self.drop(pooler_output)\n",
    "    out       = self.linear(corrupted)\n",
    "    \n",
    "    return out\n",
    "\n",
    "  def encode(self, input_ids, attention_mask):\n",
    "    return self.bert(\n",
    "      input_ids       = input_ids,\n",
    "      attention_mask  = attention_mask,\n",
    "      return_dict     = False\n",
    "    )\n",
    "\n",
    "model = Classifier()\n",
    "\n",
    "device = torch.device(\"cuda:0\" if torch.cuda.is_available() else \"cpu\")\n",
    "\n",
    "model = model.to(device)\n",
    "\n",
    "print(device)\n",
    "\n",
    "model.load_state_dict(torch.load(MODEL_PATH))\n"
   ]
  },
  {
   "cell_type": "code",
   "execution_count": null,
   "metadata": {
    "colab": {
     "base_uri": "https://localhost:8080/",
     "height": 164,
     "referenced_widgets": [
      "71f9ae0c65b34aa0816d6fd049ff6de0",
      "102bb7cbf5ec4b629da6f56bb23dee41",
      "3b706547ed03495ca3659b7a7300cc93",
      "f051695640b742c096e3f44fb4991cc9",
      "60ac351aa10e4d77b8c777717cea1677",
      "f97d6c41526e40e09a68b5ff01bc5dbc",
      "0ef9ebfb1b9c42ddb9f23d12c7e8a717",
      "eb5c60d5f006421dbf6974925a8db282",
      "e3efdb49d8994331b807021697ca4bcc",
      "83704a20ba5b49f693df96b46b6f85e5",
      "0bb052cf9c614f8cab5af12d375b492f",
      "9b5142704382464db5f8eb05df82e770",
      "406d1a0b52bc46fd9c8d0fd0c1914f03",
      "881cab85f104488e87a89109bea2467b",
      "32bb8d44078e4ea0b50d8c7240d6e2ed",
      "0a5c1958bbb84a9aa92c1cd0b08a90be",
      "b933f46baede442888c6d3fe27d34b61",
      "6ce48dca674d4ce5a579938f2ae9be6f",
      "0784167070cf41e488a45697335d9a1c",
      "8873381b17404c8e82b6cd86ba15fb61",
      "cef3dd25f62a45a0a5012d78fca64482",
      "28965ef4f52f49e1863c2be28974d1db",
      "1d43630709cc4acf9ccb653d88bc304c",
      "dd31d28deaba449ea9234e0d32e5cea7"
     ]
    },
    "id": "ijXe_iPUvpfz",
    "outputId": "9b91f9a4-558f-4e5c-f107-8fa2477fcc9d"
   },
   "outputs": [
    {
     "data": {
      "application/vnd.jupyter.widget-view+json": {
       "model_id": "71f9ae0c65b34aa0816d6fd049ff6de0",
       "version_major": 2,
       "version_minor": 0
      },
      "text/plain": [
       "HBox(children=(FloatProgress(value=0.0, description='Downloading', max=995526.0, style=ProgressStyle(descripti…"
      ]
     },
     "metadata": {
      "tags": []
     },
     "output_type": "display_data"
    },
    {
     "name": "stdout",
     "output_type": "stream",
     "text": [
      "\n"
     ]
    },
    {
     "data": {
      "application/vnd.jupyter.widget-view+json": {
       "model_id": "e3efdb49d8994331b807021697ca4bcc",
       "version_major": 2,
       "version_minor": 0
      },
      "text/plain": [
       "HBox(children=(FloatProgress(value=0.0, description='Downloading', max=29.0, style=ProgressStyle(description_w…"
      ]
     },
     "metadata": {
      "tags": []
     },
     "output_type": "display_data"
    },
    {
     "name": "stdout",
     "output_type": "stream",
     "text": [
      "\n"
     ]
    },
    {
     "data": {
      "application/vnd.jupyter.widget-view+json": {
       "model_id": "b933f46baede442888c6d3fe27d34b61",
       "version_major": 2,
       "version_minor": 0
      },
      "text/plain": [
       "HBox(children=(FloatProgress(value=0.0, description='Downloading', max=1961828.0, style=ProgressStyle(descript…"
      ]
     },
     "metadata": {
      "tags": []
     },
     "output_type": "display_data"
    },
    {
     "name": "stdout",
     "output_type": "stream",
     "text": [
      "\n"
     ]
    }
   ],
   "source": [
    "tokenizer = BertTokenizer.from_pretrained(BERT_MODEL)\n",
    "\n",
    "def embed_message(message, tokenizer, model, max_len=MAX_LEN):\n",
    "  encoding = tokenizer.encode_plus(\n",
    "      message,\n",
    "      add_special_tokens=True,\n",
    "      max_length=max_len,\n",
    "      return_token_type_ids=False,\n",
    "      pad_to_max_length=True,\n",
    "      return_attention_mask=True,\n",
    "      return_tensors='pt',\n",
    "    )\n",
    "  \n",
    "  input_ids = encoding['input_ids'].flatten().unsqueeze(0).to(device)\n",
    "  attention_mask = encoding['attention_mask'].flatten().unsqueeze(0).to(device)\n",
    "  model.eval()\n",
    "  last_hidden_state, pooler_output = model.encode(\n",
    "        input_ids=input_ids,\n",
    "        attention_mask=attention_mask\n",
    "      )\n",
    "  \n",
    "  #print(last_hidden_state.shape)\n",
    "  #print()\n",
    "  #print(pooler_output.shape)\n",
    "  return pooler_output.detach().cpu().numpy().squeeze(0)"
   ]
  },
  {
   "cell_type": "code",
   "execution_count": null,
   "metadata": {
    "id": "ZrGXR5xivepj"
   },
   "outputs": [],
   "source": [
    "new_msg  = \"Ich möchte eine Schulung veranstalten\"\n",
    "new_embd = embed_message(new_msg, tokenizer, model)\n",
    "print(new_embd)\n",
    "ae.eval()\n",
    "embd_device = torch.tensor(new_embd).to(device)\n",
    "new_encoding = ae.encode(embd_device)"
   ]
  },
  {
   "cell_type": "code",
   "execution_count": null,
   "metadata": {
    "colab": {
     "base_uri": "https://localhost:8080/"
    },
    "id": "Q4EPexA0wwP1",
    "outputId": "8b9e3a3b-3dd5-4cfe-dfed-1ce79b510af7"
   },
   "outputs": [
    {
     "name": "stdout",
     "output_type": "stream",
     "text": [
      "(768,)\n"
     ]
    }
   ],
   "source": [
    "print(new_embd.shape)\n",
    "ae.eval()\n",
    "embd_device = torch.tensor(new_embd).to(device)\n",
    "new_encoding = ae.encode(embd_device)"
   ]
  },
  {
   "cell_type": "code",
   "execution_count": null,
   "metadata": {
    "id": "ZaOQYHj8Sufc"
   },
   "outputs": [],
   "source": []
  },
  {
   "cell_type": "code",
   "execution_count": null,
   "metadata": {
    "id": "J8wEq7EjSZ3N"
   },
   "outputs": [],
   "source": [
    "# Model params\n",
    "BERT_MODEL = 'bert-base-multilingual-cased'\n",
    "BATCH_SIZE = 16\n",
    "EPOCHS     = 10\n",
    "TEST_SPLIT = 0.1\n",
    "VAL_SPLIT  = 0.5\n",
    "SEED       = 42\n",
    "\n",
    "DROPOUT     = 0.3\n",
    "HIDDEN_SIZE = 768\n",
    "SEQ_LEN     = 256"
   ]
  },
  {
   "cell_type": "code",
   "execution_count": null,
   "metadata": {
    "id": "St3E6uq3pHJV"
   },
   "outputs": [],
   "source": [
    "import pandas as pd\n",
    "import time\n",
    "import numpy as np\n",
    "import transformers\n",
    "\n",
    "from transformers import BertModel, BertTokenizer, AdamW, get_linear_schedule_with_warmup\n",
    "import torch\n",
    "\n",
    "import seaborn as sns\n",
    "from pylab import rcParams\n",
    "import matplotlib.pyplot as plt\n",
    "from matplotlib import rc\n",
    "from sklearn.model_selection import train_test_split\n",
    "from sklearn.metrics import confusion_matrix, classification_report\n",
    "from collections import defaultdict\n",
    "from textwrap import wrap\n",
    "from torch import nn, optim\n",
    "from torch.nn import functional as F\n",
    "from torch.utils.data import Dataset, DataLoader\n",
    "\n",
    "\n",
    "\n",
    "import matplotlib.pyplot as plt"
   ]
  },
  {
   "cell_type": "code",
   "execution_count": null,
   "metadata": {
    "id": "jo9G9invowyk"
   },
   "outputs": [],
   "source": [
    "df = pd.read_csv(\"/content/drive/MyDrive/ML Project/tickets_with_new_embeddings.csv\")\n",
    "\n",
    "df = df[df[\"angelegt_von\"] != \"SOLMAN_BTC \"]"
   ]
  },
  {
   "cell_type": "code",
   "execution_count": null,
   "metadata": {
    "id": "vy7TrxRyMAJn"
   },
   "outputs": [],
   "source": [
    "class Autoencoder(nn.Module):\n",
    "  def __init__(self):\n",
    "    super(Autoencoder,self).__init__()\n",
    "\n",
    "    self.enc1 = nn.Linear(768,512)\n",
    "    self.relu1 = nn.LeakyReLU()\n",
    "    self.enc2 = nn.Linear(512,256)\n",
    "    self.relu2 = nn.LeakyReLU()\n",
    "    self.enc3 = nn.Linear(256,128)\n",
    "    self.relu3 = nn.LeakyReLU()\n",
    "    self.enc4 = nn.Linear(128,2)\n",
    "    self.relu4 = nn.LeakyReLU()\n",
    "    self.dec1 = nn.Linear(2,128)\n",
    "    self.relu5 = nn.LeakyReLU()\n",
    "    self.dec2 = nn.Linear(128,256)\n",
    "    self.relu6 = nn.LeakyReLU()\n",
    "    self.dec3 = nn.Linear(256,512)\n",
    "    self.relu7 = nn.LeakyReLU()\n",
    "    self.dec4 = nn.Linear(512,768)\n",
    "\n",
    "    for m in self.modules():\n",
    "        if isinstance(m, nn.Conv2d) or isinstance(m, nn.Linear):\n",
    "            torch.nn.init.xavier_uniform(m.weight)\n",
    "\n",
    "  def encode(self, x):\n",
    "    x = self.enc1(x)\n",
    "    x = self.relu1(x)\n",
    "    x = self.enc2(x)\n",
    "    x = self.relu2(x)\n",
    "    x = self.enc3(x)\n",
    "    x = self.relu3(x)\n",
    "    x = self.enc4(x)\n",
    "    return x\n",
    "  \n",
    "  def decode(self,x):\n",
    "    x = self.dec1(x)\n",
    "    x = self.relu4(x)\n",
    "    x = self.dec2(x)\n",
    "    x = self.relu5(x)\n",
    "    x = self.dec3(x)\n",
    "    x = self.relu6(x)\n",
    "    x = self.dec4(x)\n",
    "    return x\n"
   ]
  },
  {
   "cell_type": "code",
   "execution_count": null,
   "metadata": {
    "colab": {
     "base_uri": "https://localhost:8080/"
    },
    "id": "nwJgTS0EUMQX",
    "outputId": "aeecc506-2f7d-4478-eca3-01ab11deadf2"
   },
   "outputs": [
    {
     "name": "stdout",
     "output_type": "stream",
     "text": [
      "cuda:0\n"
     ]
    },
    {
     "name": "stderr",
     "output_type": "stream",
     "text": [
      "/usr/local/lib/python3.7/dist-packages/ipykernel_launcher.py:23: UserWarning: nn.init.xavier_uniform is now deprecated in favor of nn.init.xavier_uniform_.\n"
     ]
    }
   ],
   "source": [
    "ae = Autoencoder()\n",
    "device = torch.device(\"cuda:0\" if torch.cuda.is_available() else \"cpu\")\n",
    "print(device)\n",
    "ae.to(device)\n",
    "\n",
    "opt = torch.optim.Adam(ae.parameters(), lr=1e-4, weight_decay=1e-5)"
   ]
  },
  {
   "cell_type": "code",
   "execution_count": null,
   "metadata": {
    "id": "AU-O4T0_Vpp7"
   },
   "outputs": [],
   "source": [
    "embeddings = df[\"new_embeddings\"].to_numpy()\n",
    "labels = df[\"labels\"].to_numpy()"
   ]
  },
  {
   "cell_type": "code",
   "execution_count": null,
   "metadata": {
    "id": "GzxtZSG7X1dm"
   },
   "outputs": [],
   "source": [
    "new_embeddings = []\n",
    "for e in embeddings:\n",
    "  e_list = e[1:-1].split(\" \")\n",
    "  new_entry = []\n",
    "  for e_ in e_list:\n",
    "    if e_ == '':\n",
    "      continue\n",
    "    if '\\n' in e_:\n",
    "      new_entry.append(e_[:-1])\n",
    "    else:\n",
    "      new_entry.append(e_)\n",
    "  new_embeddings.append(new_entry)\n",
    "\n",
    "new_embeddings = np.asarray(new_embeddings).astype(np.float)"
   ]
  },
  {
   "cell_type": "code",
   "execution_count": null,
   "metadata": {
    "id": "RWmyiAYYaN1g"
   },
   "outputs": [],
   "source": [
    "dataset = torch.utils.data.TensorDataset(\n",
    "    torch.tensor(new_embeddings, dtype = torch.float),\n",
    "    torch.tensor(labels, dtype = torch.int)\n",
    ")"
   ]
  },
  {
   "cell_type": "code",
   "execution_count": null,
   "metadata": {
    "id": "edRA86pGav-3"
   },
   "outputs": [],
   "source": [
    "train_loader = torch.utils.data.DataLoader(\n",
    "    dataset,\n",
    "    batch_size = BATCH_SIZE,\n",
    "    shuffle=True,\n",
    ")\n",
    "\n",
    "test_loader = torch.utils.data.DataLoader(\n",
    "    dataset,\n",
    "    batch_size = BATCH_SIZE,\n",
    "    shuffle=False,\n",
    ")"
   ]
  },
  {
   "cell_type": "code",
   "execution_count": null,
   "metadata": {
    "id": "ClIBdRycUYyn"
   },
   "outputs": [],
   "source": [
    "EPOCHS = 250\n",
    "BATCH_SIZE = 32\n",
    "\n",
    "for epoch in range(EPOCHS):\n",
    "  print(epoch)\n",
    "  ae.train()\n",
    "  encodings = []\n",
    "  labels2 = []\n",
    "  running_loss = []\n",
    "  for i, data in enumerate(train_loader):\n",
    "      #print(i, \"/\", len(train_loader))\n",
    "      x, label = data\n",
    "      x = x.to(device)\n",
    "      enc = ae.encode(x)\n",
    "      out = ae.decode(enc)\n",
    "\n",
    "      encodings.extend(enc.detach().cpu().numpy())\n",
    "      labels2.extend(label.numpy())\n",
    "      loss = torch.nn.MSELoss()(out, x)\n",
    "      opt.zero_grad()\n",
    "      loss.backward()\n",
    "      opt.step()\n",
    "      running_loss.append(loss.item())\n",
    "  print(epoch, \"Loss:\", sum(running_loss) / len(running_loss))\n",
    "  if(epoch % 25):\n",
    "    encodings = np.asarray(encodings)\n",
    "    plt.scatter(encodings[:, 0], encodings[:, 1])\n"
   ]
  },
  {
   "cell_type": "code",
   "execution_count": null,
   "metadata": {
    "id": "t8M2jAZLyRNU"
   },
   "outputs": [],
   "source": [
    "ae.eval()\n",
    "encodings = []\n",
    "labels2 = []\n",
    "running_loss = []\n",
    "for i, data in enumerate(test_loader):\n",
    "    x, label = data\n",
    "    x = x.to(device)\n",
    "    enc = ae.encode(x)\n",
    "    encodings.extend(enc.detach().cpu().numpy())\n",
    "    labels2.extend(label.numpy())"
   ]
  },
  {
   "cell_type": "code",
   "execution_count": null,
   "metadata": {
    "colab": {
     "base_uri": "https://localhost:8080/",
     "height": 319
    },
    "id": "dg2KfZe5evIG",
    "outputId": "e4d81a98-754b-4c2e-d29a-1e5d96f7acaf"
   },
   "outputs": [
    {
     "name": "stderr",
     "output_type": "stream",
     "text": [
      "/usr/local/lib/python3.7/dist-packages/transformers/tokenization_utils_base.py:2132: FutureWarning: The `pad_to_max_length` argument is deprecated and will be removed in a future version, use `padding=True` or `padding='longest'` to pad to the longest sequence in the batch, or use `padding='max_length'` to pad to a max length. In this case, you can give a specific length with `max_length` (e.g. `max_length=45`) or leave max_length to None to pad to the maximal input size of the model (e.g. 512 for Bert).\n",
      "  FutureWarning,\n"
     ]
    },
    {
     "data": {
      "image/png": "[encoded data removed]",
      "text/plain": [
       "<Figure size 432x288 with 1 Axes>"
      ]
     },
     "metadata": {
      "needs_background": "light",
      "tags": []
     },
     "output_type": "display_data"
    }
   ],
   "source": [
    "from scipy import spatial\n",
    "tree = spatial.KDTree(encodings)\n",
    "\n",
    "encodings = np.asarray(encodings)\n",
    "\n",
    "new_msg  = \"Passwort passwort password kennwort\"\n",
    "new_embd = embed_message(new_msg, tokenizer, model)\n",
    "ae.eval()\n",
    "embd_device = torch.tensor(new_embd).to(device)\n",
    "new_encoding = ae.encode(embd_device)\n",
    "\n",
    "new_encoding = new_encoding.detach().cpu().numpy()\n",
    "#new_labels = np.asarray(new_labels)\n",
    "plt.scatter(encodings[:, 0], encodings[:, 1], c = labels2)\n",
    "plt.scatter(new_encoding[0], new_encoding[1], c=\"lime\")\n",
    "id = tree.query(new_encoding)[1]"
   ]
  },
  {
   "cell_type": "code",
   "execution_count": null,
   "metadata": {
    "colab": {
     "base_uri": "https://localhost:8080/"
    },
    "id": "RW5_UH9jqM1j",
    "outputId": "7db73a68-214a-466c-ca4f-6259a6574e7a"
   },
   "outputs": [
    {
     "name": "stdout",
     "output_type": "stream",
     "text": [
      "[14.10105    0.9738262]\n",
      "0\n",
      " Hello, we would like client 919 refreshed.  We also noticed yesterday when we had a lesson with ERPsim that all accounts were locked. We had to log in as an administrator and unlock all accounts. Is this something we have to do normally?  kind regards ----------------------------------- Mr. Smith Business IT Lab, Business Administration School of Business, Economics and Law Vasagatan 1, P O Box 115, SE 405 30 Gothenburg Tel: +46-31-786 44 02\n"
     ]
    }
   ],
   "source": [
    "print(encodings[8])\n",
    "print(labels2[8])\n",
    "\n",
    "print(df[df.index==id].initial_message.item())"
   ]
  },
  {
   "cell_type": "markdown",
   "metadata": {
    "id": "_HKfzN5goSSq"
   },
   "source": []
  }
 ],
 "metadata": {
  "colab": {
   "collapsed_sections": [],
   "name": "Kopie von binary_classification.ipynb",
   "provenance": []
  },
  "kernelspec": {
   "display_name": "Python 3",
   "language": "python",
   "name": "python3"
  },
  "language_info": {
   "codemirror_mode": {
    "name": "ipython",
    "version": 3
   },
   "file_extension": ".py",
   "mimetype": "text/x-python",
   "name": "python",
   "nbconvert_exporter": "python",
   "pygments_lexer": "ipython3",
   "version": "3.8.2"
  },
  "widgets": {
   "application/vnd.jupyter.widget-state+json": {
    "0784167070cf41e488a45697335d9a1c": {
     "model_module": "@jupyter-widgets/controls",
     "model_name": "FloatProgressModel",
     "state": {
      "_dom_classes": [],
      "_model_module": "@jupyter-widgets/controls",
      "_model_module_version": "1.5.0",
      "_model_name": "FloatProgressModel",
      "_view_count": null,
      "_view_module": "@jupyter-widgets/controls",
      "_view_module_version": "1.5.0",
      "_view_name": "ProgressView",
      "bar_style": "success",
      "description": "Downloading: 100%",
      "description_tooltip": null,
      "layout": "IPY_MODEL_28965ef4f52f49e1863c2be28974d1db",
      "max": 1961828,
      "min": 0,
      "orientation": "horizontal",
      "style": "IPY_MODEL_cef3dd25f62a45a0a5012d78fca64482",
      "value": 1961828
     }
    },
    "0a5c1958bbb84a9aa92c1cd0b08a90be": {
     "model_module": "@jupyter-widgets/base",
     "model_name": "LayoutModel",
     "state": {
      "_model_module": "@jupyter-widgets/base",
      "_model_module_version": "1.2.0",
      "_model_name": "LayoutModel",
      "_view_count": null,
      "_view_module": "@jupyter-widgets/base",
      "_view_module_version": "1.2.0",
      "_view_name": "LayoutView",
      "align_content": null,
      "align_items": null,
      "align_self": null,
      "border": null,
      "bottom": null,
      "display": null,
      "flex": null,
      "flex_flow": null,
      "grid_area": null,
      "grid_auto_columns": null,
      "grid_auto_flow": null,
      "grid_auto_rows": null,
      "grid_column": null,
      "grid_gap": null,
      "grid_row": null,
      "grid_template_areas": null,
      "grid_template_columns": null,
      "grid_template_rows": null,
      "height": null,
      "justify_content": null,
      "justify_items": null,
      "left": null,
      "margin": null,
      "max_height": null,
      "max_width": null,
      "min_height": null,
      "min_width": null,
      "object_fit": null,
      "object_position": null,
      "order": null,
      "overflow": null,
      "overflow_x": null,
      "overflow_y": null,
      "padding": null,
      "right": null,
      "top": null,
      "visibility": null,
      "width": null
     }
    },
    "0bb052cf9c614f8cab5af12d375b492f": {
     "model_module": "@jupyter-widgets/controls",
     "model_name": "FloatProgressModel",
     "state": {
      "_dom_classes": [],
      "_model_module": "@jupyter-widgets/controls",
      "_model_module_version": "1.5.0",
      "_model_name": "FloatProgressModel",
      "_view_count": null,
      "_view_module": "@jupyter-widgets/controls",
      "_view_module_version": "1.5.0",
      "_view_name": "ProgressView",
      "bar_style": "success",
      "description": "Downloading: 100%",
      "description_tooltip": null,
      "layout": "IPY_MODEL_881cab85f104488e87a89109bea2467b",
      "max": 29,
      "min": 0,
      "orientation": "horizontal",
      "style": "IPY_MODEL_406d1a0b52bc46fd9c8d0fd0c1914f03",
      "value": 29
     }
    },
    "0ef9ebfb1b9c42ddb9f23d12c7e8a717": {
     "model_module": "@jupyter-widgets/controls",
     "model_name": "DescriptionStyleModel",
     "state": {
      "_model_module": "@jupyter-widgets/controls",
      "_model_module_version": "1.5.0",
      "_model_name": "DescriptionStyleModel",
      "_view_count": null,
      "_view_module": "@jupyter-widgets/base",
      "_view_module_version": "1.2.0",
      "_view_name": "StyleView",
      "description_width": ""
     }
    },
    "102bb7cbf5ec4b629da6f56bb23dee41": {
     "model_module": "@jupyter-widgets/base",
     "model_name": "LayoutModel",
     "state": {
      "_model_module": "@jupyter-widgets/base",
      "_model_module_version": "1.2.0",
      "_model_name": "LayoutModel",
      "_view_count": null,
      "_view_module": "@jupyter-widgets/base",
      "_view_module_version": "1.2.0",
      "_view_name": "LayoutView",
      "align_content": null,
      "align_items": null,
      "align_self": null,
      "border": null,
      "bottom": null,
      "display": null,
      "flex": null,
      "flex_flow": null,
      "grid_area": null,
      "grid_auto_columns": null,
      "grid_auto_flow": null,
      "grid_auto_rows": null,
      "grid_column": null,
      "grid_gap": null,
      "grid_row": null,
      "grid_template_areas": null,
      "grid_template_columns": null,
      "grid_template_rows": null,
      "height": null,
      "justify_content": null,
      "justify_items": null,
      "left": null,
      "margin": null,
      "max_height": null,
      "max_width": null,
      "min_height": null,
      "min_width": null,
      "object_fit": null,
      "object_position": null,
      "order": null,
      "overflow": null,
      "overflow_x": null,
      "overflow_y": null,
      "padding": null,
      "right": null,
      "top": null,
      "visibility": null,
      "width": null
     }
    },
    "1d43630709cc4acf9ccb653d88bc304c": {
     "model_module": "@jupyter-widgets/controls",
     "model_name": "DescriptionStyleModel",
     "state": {
      "_model_module": "@jupyter-widgets/controls",
      "_model_module_version": "1.5.0",
      "_model_name": "DescriptionStyleModel",
      "_view_count": null,
      "_view_module": "@jupyter-widgets/base",
      "_view_module_version": "1.2.0",
      "_view_name": "StyleView",
      "description_width": ""
     }
    },
    "28965ef4f52f49e1863c2be28974d1db": {
     "model_module": "@jupyter-widgets/base",
     "model_name": "LayoutModel",
     "state": {
      "_model_module": "@jupyter-widgets/base",
      "_model_module_version": "1.2.0",
      "_model_name": "LayoutModel",
      "_view_count": null,
      "_view_module": "@jupyter-widgets/base",
      "_view_module_version": "1.2.0",
      "_view_name": "LayoutView",
      "align_content": null,
      "align_items": null,
      "align_self": null,
      "border": null,
      "bottom": null,
      "display": null,
      "flex": null,
      "flex_flow": null,
      "grid_area": null,
      "grid_auto_columns": null,
      "grid_auto_flow": null,
      "grid_auto_rows": null,
      "grid_column": null,
      "grid_gap": null,
      "grid_row": null,
      "grid_template_areas": null,
      "grid_template_columns": null,
      "grid_template_rows": null,
      "height": null,
      "justify_content": null,
      "justify_items": null,
      "left": null,
      "margin": null,
      "max_height": null,
      "max_width": null,
      "min_height": null,
      "min_width": null,
      "object_fit": null,
      "object_position": null,
      "order": null,
      "overflow": null,
      "overflow_x": null,
      "overflow_y": null,
      "padding": null,
      "right": null,
      "top": null,
      "visibility": null,
      "width": null
     }
    },
    "32bb8d44078e4ea0b50d8c7240d6e2ed": {
     "model_module": "@jupyter-widgets/controls",
     "model_name": "DescriptionStyleModel",
     "state": {
      "_model_module": "@jupyter-widgets/controls",
      "_model_module_version": "1.5.0",
      "_model_name": "DescriptionStyleModel",
      "_view_count": null,
      "_view_module": "@jupyter-widgets/base",
      "_view_module_version": "1.2.0",
      "_view_name": "StyleView",
      "description_width": ""
     }
    },
    "3b706547ed03495ca3659b7a7300cc93": {
     "model_module": "@jupyter-widgets/controls",
     "model_name": "FloatProgressModel",
     "state": {
      "_dom_classes": [],
      "_model_module": "@jupyter-widgets/controls",
      "_model_module_version": "1.5.0",
      "_model_name": "FloatProgressModel",
      "_view_count": null,
      "_view_module": "@jupyter-widgets/controls",
      "_view_module_version": "1.5.0",
      "_view_name": "ProgressView",
      "bar_style": "success",
      "description": "Downloading: 100%",
      "description_tooltip": null,
      "layout": "IPY_MODEL_f97d6c41526e40e09a68b5ff01bc5dbc",
      "max": 995526,
      "min": 0,
      "orientation": "horizontal",
      "style": "IPY_MODEL_60ac351aa10e4d77b8c777717cea1677",
      "value": 995526
     }
    },
    "406d1a0b52bc46fd9c8d0fd0c1914f03": {
     "model_module": "@jupyter-widgets/controls",
     "model_name": "ProgressStyleModel",
     "state": {
      "_model_module": "@jupyter-widgets/controls",
      "_model_module_version": "1.5.0",
      "_model_name": "ProgressStyleModel",
      "_view_count": null,
      "_view_module": "@jupyter-widgets/base",
      "_view_module_version": "1.2.0",
      "_view_name": "StyleView",
      "bar_color": null,
      "description_width": "initial"
     }
    },
    "60ac351aa10e4d77b8c777717cea1677": {
     "model_module": "@jupyter-widgets/controls",
     "model_name": "ProgressStyleModel",
     "state": {
      "_model_module": "@jupyter-widgets/controls",
      "_model_module_version": "1.5.0",
      "_model_name": "ProgressStyleModel",
      "_view_count": null,
      "_view_module": "@jupyter-widgets/base",
      "_view_module_version": "1.2.0",
      "_view_name": "StyleView",
      "bar_color": null,
      "description_width": "initial"
     }
    },
    "6ce48dca674d4ce5a579938f2ae9be6f": {
     "model_module": "@jupyter-widgets/base",
     "model_name": "LayoutModel",
     "state": {
      "_model_module": "@jupyter-widgets/base",
      "_model_module_version": "1.2.0",
      "_model_name": "LayoutModel",
      "_view_count": null,
      "_view_module": "@jupyter-widgets/base",
      "_view_module_version": "1.2.0",
      "_view_name": "LayoutView",
      "align_content": null,
      "align_items": null,
      "align_self": null,
      "border": null,
      "bottom": null,
      "display": null,
      "flex": null,
      "flex_flow": null,
      "grid_area": null,
      "grid_auto_columns": null,
      "grid_auto_flow": null,
      "grid_auto_rows": null,
      "grid_column": null,
      "grid_gap": null,
      "grid_row": null,
      "grid_template_areas": null,
      "grid_template_columns": null,
      "grid_template_rows": null,
      "height": null,
      "justify_content": null,
      "justify_items": null,
      "left": null,
      "margin": null,
      "max_height": null,
      "max_width": null,
      "min_height": null,
      "min_width": null,
      "object_fit": null,
      "object_position": null,
      "order": null,
      "overflow": null,
      "overflow_x": null,
      "overflow_y": null,
      "padding": null,
      "right": null,
      "top": null,
      "visibility": null,
      "width": null
     }
    },
    "71f9ae0c65b34aa0816d6fd049ff6de0": {
     "model_module": "@jupyter-widgets/controls",
     "model_name": "HBoxModel",
     "state": {
      "_dom_classes": [],
      "_model_module": "@jupyter-widgets/controls",
      "_model_module_version": "1.5.0",
      "_model_name": "HBoxModel",
      "_view_count": null,
      "_view_module": "@jupyter-widgets/controls",
      "_view_module_version": "1.5.0",
      "_view_name": "HBoxView",
      "box_style": "",
      "children": [
       "IPY_MODEL_3b706547ed03495ca3659b7a7300cc93",
       "IPY_MODEL_f051695640b742c096e3f44fb4991cc9"
      ],
      "layout": "IPY_MODEL_102bb7cbf5ec4b629da6f56bb23dee41"
     }
    },
    "83704a20ba5b49f693df96b46b6f85e5": {
     "model_module": "@jupyter-widgets/base",
     "model_name": "LayoutModel",
     "state": {
      "_model_module": "@jupyter-widgets/base",
      "_model_module_version": "1.2.0",
      "_model_name": "LayoutModel",
      "_view_count": null,
      "_view_module": "@jupyter-widgets/base",
      "_view_module_version": "1.2.0",
      "_view_name": "LayoutView",
      "align_content": null,
      "align_items": null,
      "align_self": null,
      "border": null,
      "bottom": null,
      "display": null,
      "flex": null,
      "flex_flow": null,
      "grid_area": null,
      "grid_auto_columns": null,
      "grid_auto_flow": null,
      "grid_auto_rows": null,
      "grid_column": null,
      "grid_gap": null,
      "grid_row": null,
      "grid_template_areas": null,
      "grid_template_columns": null,
      "grid_template_rows": null,
      "height": null,
      "justify_content": null,
      "justify_items": null,
      "left": null,
      "margin": null,
      "max_height": null,
      "max_width": null,
      "min_height": null,
      "min_width": null,
      "object_fit": null,
      "object_position": null,
      "order": null,
      "overflow": null,
      "overflow_x": null,
      "overflow_y": null,
      "padding": null,
      "right": null,
      "top": null,
      "visibility": null,
      "width": null
     }
    },
    "881cab85f104488e87a89109bea2467b": {
     "model_module": "@jupyter-widgets/base",
     "model_name": "LayoutModel",
     "state": {
      "_model_module": "@jupyter-widgets/base",
      "_model_module_version": "1.2.0",
      "_model_name": "LayoutModel",
      "_view_count": null,
      "_view_module": "@jupyter-widgets/base",
      "_view_module_version": "1.2.0",
      "_view_name": "LayoutView",
      "align_content": null,
      "align_items": null,
      "align_self": null,
      "border": null,
      "bottom": null,
      "display": null,
      "flex": null,
      "flex_flow": null,
      "grid_area": null,
      "grid_auto_columns": null,
      "grid_auto_flow": null,
      "grid_auto_rows": null,
      "grid_column": null,
      "grid_gap": null,
      "grid_row": null,
      "grid_template_areas": null,
      "grid_template_columns": null,
      "grid_template_rows": null,
      "height": null,
      "justify_content": null,
      "justify_items": null,
      "left": null,
      "margin": null,
      "max_height": null,
      "max_width": null,
      "min_height": null,
      "min_width": null,
      "object_fit": null,
      "object_position": null,
      "order": null,
      "overflow": null,
      "overflow_x": null,
      "overflow_y": null,
      "padding": null,
      "right": null,
      "top": null,
      "visibility": null,
      "width": null
     }
    },
    "8873381b17404c8e82b6cd86ba15fb61": {
     "model_module": "@jupyter-widgets/controls",
     "model_name": "HTMLModel",
     "state": {
      "_dom_classes": [],
      "_model_module": "@jupyter-widgets/controls",
      "_model_module_version": "1.5.0",
      "_model_name": "HTMLModel",
      "_view_count": null,
      "_view_module": "@jupyter-widgets/controls",
      "_view_module_version": "1.5.0",
      "_view_name": "HTMLView",
      "description": "",
      "description_tooltip": null,
      "layout": "IPY_MODEL_dd31d28deaba449ea9234e0d32e5cea7",
      "placeholder": "​",
      "style": "IPY_MODEL_1d43630709cc4acf9ccb653d88bc304c",
      "value": " 1.96M/1.96M [00:00&lt;00:00, 4.40MB/s]"
     }
    },
    "9b5142704382464db5f8eb05df82e770": {
     "model_module": "@jupyter-widgets/controls",
     "model_name": "HTMLModel",
     "state": {
      "_dom_classes": [],
      "_model_module": "@jupyter-widgets/controls",
      "_model_module_version": "1.5.0",
      "_model_name": "HTMLModel",
      "_view_count": null,
      "_view_module": "@jupyter-widgets/controls",
      "_view_module_version": "1.5.0",
      "_view_name": "HTMLView",
      "description": "",
      "description_tooltip": null,
      "layout": "IPY_MODEL_0a5c1958bbb84a9aa92c1cd0b08a90be",
      "placeholder": "​",
      "style": "IPY_MODEL_32bb8d44078e4ea0b50d8c7240d6e2ed",
      "value": " 29.0/29.0 [00:00&lt;00:00, 42.8B/s]"
     }
    },
    "b933f46baede442888c6d3fe27d34b61": {
     "model_module": "@jupyter-widgets/controls",
     "model_name": "HBoxModel",
     "state": {
      "_dom_classes": [],
      "_model_module": "@jupyter-widgets/controls",
      "_model_module_version": "1.5.0",
      "_model_name": "HBoxModel",
      "_view_count": null,
      "_view_module": "@jupyter-widgets/controls",
      "_view_module_version": "1.5.0",
      "_view_name": "HBoxView",
      "box_style": "",
      "children": [
       "IPY_MODEL_0784167070cf41e488a45697335d9a1c",
       "IPY_MODEL_8873381b17404c8e82b6cd86ba15fb61"
      ],
      "layout": "IPY_MODEL_6ce48dca674d4ce5a579938f2ae9be6f"
     }
    },
    "cef3dd25f62a45a0a5012d78fca64482": {
     "model_module": "@jupyter-widgets/controls",
     "model_name": "ProgressStyleModel",
     "state": {
      "_model_module": "@jupyter-widgets/controls",
      "_model_module_version": "1.5.0",
      "_model_name": "ProgressStyleModel",
      "_view_count": null,
      "_view_module": "@jupyter-widgets/base",
      "_view_module_version": "1.2.0",
      "_view_name": "StyleView",
      "bar_color": null,
      "description_width": "initial"
     }
    },
    "dd31d28deaba449ea9234e0d32e5cea7": {
     "model_module": "@jupyter-widgets/base",
     "model_name": "LayoutModel",
     "state": {
      "_model_module": "@jupyter-widgets/base",
      "_model_module_version": "1.2.0",
      "_model_name": "LayoutModel",
      "_view_count": null,
      "_view_module": "@jupyter-widgets/base",
      "_view_module_version": "1.2.0",
      "_view_name": "LayoutView",
      "align_content": null,
      "align_items": null,
      "align_self": null,
      "border": null,
      "bottom": null,
      "display": null,
      "flex": null,
      "flex_flow": null,
      "grid_area": null,
      "grid_auto_columns": null,
      "grid_auto_flow": null,
      "grid_auto_rows": null,
      "grid_column": null,
      "grid_gap": null,
      "grid_row": null,
      "grid_template_areas": null,
      "grid_template_columns": null,
      "grid_template_rows": null,
      "height": null,
      "justify_content": null,
      "justify_items": null,
      "left": null,
      "margin": null,
      "max_height": null,
      "max_width": null,
      "min_height": null,
      "min_width": null,
      "object_fit": null,
      "object_position": null,
      "order": null,
      "overflow": null,
      "overflow_x": null,
      "overflow_y": null,
      "padding": null,
      "right": null,
      "top": null,
      "visibility": null,
      "width": null
     }
    },
    "e3efdb49d8994331b807021697ca4bcc": {
     "model_module": "@jupyter-widgets/controls",
     "model_name": "HBoxModel",
     "state": {
      "_dom_classes": [],
      "_model_module": "@jupyter-widgets/controls",
      "_model_module_version": "1.5.0",
      "_model_name": "HBoxModel",
      "_view_count": null,
      "_view_module": "@jupyter-widgets/controls",
      "_view_module_version": "1.5.0",
      "_view_name": "HBoxView",
      "box_style": "",
      "children": [
       "IPY_MODEL_0bb052cf9c614f8cab5af12d375b492f",
       "IPY_MODEL_9b5142704382464db5f8eb05df82e770"
      ],
      "layout": "IPY_MODEL_83704a20ba5b49f693df96b46b6f85e5"
     }
    },
    "eb5c60d5f006421dbf6974925a8db282": {
     "model_module": "@jupyter-widgets/base",
     "model_name": "LayoutModel",
     "state": {
      "_model_module": "@jupyter-widgets/base",
      "_model_module_version": "1.2.0",
      "_model_name": "LayoutModel",
      "_view_count": null,
      "_view_module": "@jupyter-widgets/base",
      "_view_module_version": "1.2.0",
      "_view_name": "LayoutView",
      "align_content": null,
      "align_items": null,
      "align_self": null,
      "border": null,
      "bottom": null,
      "display": null,
      "flex": null,
      "flex_flow": null,
      "grid_area": null,
      "grid_auto_columns": null,
      "grid_auto_flow": null,
      "grid_auto_rows": null,
      "grid_column": null,
      "grid_gap": null,
      "grid_row": null,
      "grid_template_areas": null,
      "grid_template_columns": null,
      "grid_template_rows": null,
      "height": null,
      "justify_content": null,
      "justify_items": null,
      "left": null,
      "margin": null,
      "max_height": null,
      "max_width": null,
      "min_height": null,
      "min_width": null,
      "object_fit": null,
      "object_position": null,
      "order": null,
      "overflow": null,
      "overflow_x": null,
      "overflow_y": null,
      "padding": null,
      "right": null,
      "top": null,
      "visibility": null,
      "width": null
     }
    },
    "f051695640b742c096e3f44fb4991cc9": {
     "model_module": "@jupyter-widgets/controls",
     "model_name": "HTMLModel",
     "state": {
      "_dom_classes": [],
      "_model_module": "@jupyter-widgets/controls",
      "_model_module_version": "1.5.0",
      "_model_name": "HTMLModel",
      "_view_count": null,
      "_view_module": "@jupyter-widgets/controls",
      "_view_module_version": "1.5.0",
      "_view_name": "HTMLView",
      "description": "",
      "description_tooltip": null,
      "layout": "IPY_MODEL_eb5c60d5f006421dbf6974925a8db282",
      "placeholder": "​",
      "style": "IPY_MODEL_0ef9ebfb1b9c42ddb9f23d12c7e8a717",
      "value": " 996k/996k [00:02&lt;00:00, 376kB/s]"
     }
    },
    "f97d6c41526e40e09a68b5ff01bc5dbc": {
     "model_module": "@jupyter-widgets/base",
     "model_name": "LayoutModel",
     "state": {
      "_model_module": "@jupyter-widgets/base",
      "_model_module_version": "1.2.0",
      "_model_name": "LayoutModel",
      "_view_count": null,
      "_view_module": "@jupyter-widgets/base",
      "_view_module_version": "1.2.0",
      "_view_name": "LayoutView",
      "align_content": null,
      "align_items": null,
      "align_self": null,
      "border": null,
      "bottom": null,
      "display": null,
      "flex": null,
      "flex_flow": null,
      "grid_area": null,
      "grid_auto_columns": null,
      "grid_auto_flow": null,
      "grid_auto_rows": null,
      "grid_column": null,
      "grid_gap": null,
      "grid_row": null,
      "grid_template_areas": null,
      "grid_template_columns": null,
      "grid_template_rows": null,
      "height": null,
      "justify_content": null,
      "justify_items": null,
      "left": null,
      "margin": null,
      "max_height": null,
      "max_width": null,
      "min_height": null,
      "min_width": null,
      "object_fit": null,
      "object_position": null,
      "order": null,
      "overflow": null,
      "overflow_x": null,
      "overflow_y": null,
      "padding": null,
      "right": null,
      "top": null,
      "visibility": null,
      "width": null
     }
    }
   }
  }
 },
 "nbformat": 4,
 "nbformat_minor": 1
}
