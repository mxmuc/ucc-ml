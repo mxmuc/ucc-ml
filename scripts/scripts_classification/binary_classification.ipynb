{
 "cells": [
  {
   "cell_type": "code",
   "execution_count": 3,
   "metadata": {
    "id": "J8wEq7EjSZ3N"
   },
   "outputs": [],
   "source": [
    "# Model params\n",
    "# Training for 10 epochs actually overfits the data, however the performance on the test set is consistent\n",
    "# 5 epochs are usually sufficient\n",
    "BERT_MODEL = 'bert-base-multilingual-cased'\n",
    "# Other models:\n",
    "# For DE: 'bert-base-german-cased'\n",
    "# For EN: 'bert-base-cased'\n",
    "MODEL_PATH = '../../model/clf.bin' \n",
    "DATA_PATH  = '../../data/tickets_postprp.pkl'\n",
    "\n",
    "MAX_LEN    = 256\n",
    "BATCH_SIZE = 16\n",
    "EPOCHS     = 10\n",
    "TEST_SPLIT = 0.1\n",
    "VAL_SPLIT  = 0.5\n",
    "SEED       = 42\n",
    "\n",
    "DROPOUT     = 0.3\n",
    "HIDDEN_SIZE = 768"
   ]
  },
  {
   "cell_type": "code",
   "execution_count": 4,
   "metadata": {
    "id": "St3E6uq3pHJV"
   },
   "outputs": [],
   "source": [
    "import pandas as pd\n",
    "import time\n",
    "import numpy as np\n",
    "import transformers\n",
    "\n",
    "from transformers import BertModel, BertTokenizer, AdamW, get_linear_schedule_with_warmup\n",
    "import torch\n",
    "\n",
    "import matplotlib.pyplot as plt\n",
    "from matplotlib import rc\n",
    "from sklearn.model_selection import train_test_split\n",
    "from sklearn.metrics import confusion_matrix, classification_report\n",
    "from collections import defaultdict\n",
    "from textwrap import wrap\n",
    "from torch import nn, optim\n",
    "from torch.nn import functional as F\n",
    "from torch.utils.data import Dataset, DataLoader\n",
    "\n",
    "import matplotlib.pyplot as plt"
   ]
  },
  {
   "cell_type": "code",
   "execution_count": 5,
   "metadata": {
    "id": "jo9G9invowyk"
   },
   "outputs": [],
   "source": [
    "df = pd.read_pickle(DATA_PATH)\n",
    "#delete automated tickets\n",
    "df = df[df[\"angelegt_von\"] != \"SOLMAN_BTC \"]"
   ]
  },
  {
   "cell_type": "code",
   "execution_count": 6,
   "metadata": {
    "colab": {
     "base_uri": "https://localhost:8080/"
    },
    "id": "UDGIZHasv8qs",
    "outputId": "e74646d6-a429-4c91-ccda-a6ed11eae0d8"
   },
   "outputs": [
    {
     "name": "stdout",
     "output_type": "stream",
     "text": [
      "(3903, 30)\n",
      "First Level tickets: 2113\n",
      "Second Level tickets: 1790\n"
     ]
    }
   ],
   "source": [
    "#Extract the labels from category and subcategory text as listed below\n",
    "#Also happens in the data prep script (but rather for visualization in the dashboard)\n",
    "\n",
    "first_level_subcat  = [\"Mandantenrücksetzung \", \"Entwicklerschlüssel beantragen \", \"Freischaltung einer IP Adresse/Range \", \\\n",
    "                       \"Passwortrücksetzung für Masteruser \", \"Remote Login \", \"H/U-User für Dozenten \", \\\n",
    "                       \"EMEA Portal / UAC \", \"ERPsim BI \", \"Stammdaten/Ansprechpartner \", \\\n",
    "                       \"S-User \", \"H/U-User für Studenten \", \\\n",
    "                       \"Passwortrücksetzung für ERPSim-User \", \"ERPsim Demo-System \", \"ERPsim Kursmanagement \", \\\n",
    "                       \"ERPsim Qualifizierung \"]\n",
    "\n",
    "first_level_cat     = [\"SAP GUI\"]     \n",
    "\n",
    "second_level_subcat = [\"System Erreichbarkeit \", \"Systemverfügbarkeit \", \"Systemrücksetzung \", \"Systemfehler \", \\\n",
    "                       \"Systemkonfiguration /Berechtigungsprobleme \", \"Fallstudienproblem \", \"TERP10 Anfrage \", \\\n",
    "                       \"GBI Fallstudienproblem \", \"GBI/GBS Fallstudienproblem \", \"Testzugang/Pilot \", \"Vertrag \", \\\n",
    "                       \"TERP10/TS410 Anfrage \", \"Rechnung \", \"ERPsim Zahlungsmodalitäten \", \"Schulungen \"]\n",
    "\n",
    "second_level_cat    = [\"SAP NW\", \"SAP Netweaver\", \"TERP 10\", \"TERP10/TS410\", \"SAP for Healthcare\", \"SAP4school\", \\\n",
    "                       \"SAP Business Warehouse\", \"sap4school\", \"erp4school\"]\n",
    "\n",
    "zeros = 0\n",
    "ones = 0\n",
    "labels = []\n",
    "unlabeled_ids = []\n",
    "for index, row in df.iterrows():\n",
    "  #first level task\n",
    "  if any(subcat in str(row[\"unterkategorietext\"]) for subcat in first_level_subcat) or any(cat in str(row[\"kategorietext\"]) for cat in first_level_cat):\n",
    "    labels.append(0)\n",
    "    zeros += 1\n",
    "  else:\n",
    "    #second level task\n",
    "    if any(subcat in str(row[\"unterkategorietext\"]) for subcat in second_level_subcat) or any(cat in str(row[\"kategorietext\"]) for cat in second_level_cat):\n",
    "      labels.append(1)\n",
    "      ones += 1\n",
    "    #otherwise: don't use row\n",
    "    else:\n",
    "      unlabeled_ids.append(index)\n",
    "\n",
    "df = df.drop(unlabeled_ids)\n",
    "labels_np = np.asarray(labels)\n",
    "\n",
    "print(df.shape)\n",
    "print(\"First Level tickets:\", zeros)\n",
    "print(\"Second Level tickets:\", ones)"
   ]
  },
  {
   "cell_type": "code",
   "execution_count": 7,
   "metadata": {
    "colab": {
     "base_uri": "https://localhost:8080/",
     "height": 352,
     "referenced_widgets": [
      "e6a2551d32204bd295e30898308c1079",
      "8b309b1b6dcb42a1bd0c10a843770cb4",
      "83332c10fd644b8bbd7351e56a2616d3",
      "d0022a2319ae478591ee868b0a4c5331",
      "ffbfe11c89f646b8b56ec3fa194553d4",
      "c137a8e5bba44c9796b05fb413f7caad",
      "0e7db32a533b447792e9e2c53aa9608d",
      "61a70f76fb6543859b962513b89114c9",
      "1f48a6fd8bcf4c69b6e9a1022dad5936",
      "1e97dd7f2a5f4cc2a989083a511088b1",
      "95e9ea0db0ed4a46bec819e9007439f1",
      "b78402bc57714030ad2fc0167db49db6",
      "71f8ed64d74945a68d7d243075015ee2",
      "15a04ba45e5a4330856a59df41e732f0",
      "966112b9ce8c44498cf899610068dd6b",
      "0cf0f91c3a1848e4a76a77984107c9e1",
      "032b2394157b44e090925d94190a2233",
      "8018b54f4c0a4cc297b183d33e3347af",
      "7d1be1be4d2b44829468a2b2b81b83cb",
      "2769b33941664335a2e00d1cf01d7e5b",
      "8b36bdbf9dc44b498893a493d6cb7f25",
      "73b14874dd5f41e3a2313f4f5be8bfb3",
      "5ba3e6b90e434a8f83438d09c5fe654a",
      "e640b59f2260479090475caafd9c1039",
      "344357bd4280457d8d2cefbc2ff6f054",
      "706b829cb10441299d98029fe367b7e9",
      "58791e72f57f4dc084219b5ae6b00b60",
      "2b6ef1e384cc412a938bd59c148889f5",
      "ceb0052027914c61b4713fa4fafc4fc9",
      "c62026e78584462cbbadedcf712841bc",
      "a0299159c8e44c8da3c6d79e4d9c8294",
      "4fa9096ad03b41b3b2829ec48ed7cb18"
     ]
    },
    "id": "3fXlZXVqhbbz",
    "outputId": "a1fcab54-7844-4e46-c36a-e9fc62892638"
   },
   "outputs": [
    {
     "data": {
      "application/vnd.jupyter.widget-view+json": {
       "model_id": "e6a2551d32204bd295e30898308c1079",
       "version_major": 2,
       "version_minor": 0
      },
      "text/plain": [
       "HBox(children=(FloatProgress(value=0.0, description='Downloading', max=995526.0, style=ProgressStyle(descripti…"
      ]
     },
     "metadata": {
      "tags": []
     },
     "output_type": "display_data"
    },
    {
     "name": "stdout",
     "output_type": "stream",
     "text": [
      "\n"
     ]
    },
    {
     "data": {
      "application/vnd.jupyter.widget-view+json": {
       "model_id": "1f48a6fd8bcf4c69b6e9a1022dad5936",
       "version_major": 2,
       "version_minor": 0
      },
      "text/plain": [
       "HBox(children=(FloatProgress(value=0.0, description='Downloading', max=29.0, style=ProgressStyle(description_w…"
      ]
     },
     "metadata": {
      "tags": []
     },
     "output_type": "display_data"
    },
    {
     "name": "stdout",
     "output_type": "stream",
     "text": [
      "\n"
     ]
    },
    {
     "data": {
      "application/vnd.jupyter.widget-view+json": {
       "model_id": "032b2394157b44e090925d94190a2233",
       "version_major": 2,
       "version_minor": 0
      },
      "text/plain": [
       "HBox(children=(FloatProgress(value=0.0, description='Downloading', max=1961828.0, style=ProgressStyle(descript…"
      ]
     },
     "metadata": {
      "tags": []
     },
     "output_type": "display_data"
    },
    {
     "name": "stdout",
     "output_type": "stream",
     "text": [
      "\n"
     ]
    },
    {
     "data": {
      "application/vnd.jupyter.widget-view+json": {
       "model_id": "344357bd4280457d8d2cefbc2ff6f054",
       "version_major": 2,
       "version_minor": 0
      },
      "text/plain": [
       "HBox(children=(FloatProgress(value=0.0, description='Downloading', max=625.0, style=ProgressStyle(description_…"
      ]
     },
     "metadata": {
      "tags": []
     },
     "output_type": "display_data"
    },
    {
     "name": "stdout",
     "output_type": "stream",
     "text": [
      "\n"
     ]
    },
    {
     "name": "stderr",
     "output_type": "stream",
     "text": [
      "Truncation was not explicitly activated but `max_length` is provided a specific value, please use `truncation=True` to explicitly truncate examples to max length. Defaulting to 'longest_first' truncation strategy. If you encode pairs of sequences (GLUE-style) with the tokenizer you can select this strategy more precisely by providing a specific strategy to `truncation`.\n"
     ]
    },
    {
     "name": "stdout",
     "output_type": "stream",
     "text": [
      "0\n"
     ]
    },
    {
     "name": "stderr",
     "output_type": "stream",
     "text": [
      "/usr/local/lib/python3.7/dist-packages/transformers/tokenization_utils_base.py:2190: FutureWarning: The `pad_to_max_length` argument is deprecated and will be removed in a future version, use `padding=True` or `padding='longest'` to pad to the longest sequence in the batch, or use `padding='max_length'` to pad to a max length. In this case, you can give a specific length with `max_length` (e.g. `max_length=45`) or leave max_length to None to pad to the maximal input size of the model (e.g. 512 for Bert).\n",
      "  FutureWarning,\n"
     ]
    },
    {
     "name": "stdout",
     "output_type": "stream",
     "text": [
      "1000\n",
      "2000\n",
      "3000\n"
     ]
    }
   ],
   "source": [
    "# Create tokens for the messages based on our defined bert model\n",
    "tokenizer = BertTokenizer.from_pretrained(BERT_MODEL)\n",
    "\n",
    "def tokenize(message, tokenizer, max_len=MAX_LEN):\n",
    "  encoding = tokenizer.encode_plus(\n",
    "      message,\n",
    "      add_special_tokens=True,\n",
    "      max_length=max_len,\n",
    "      return_token_type_ids=False,\n",
    "      pad_to_max_length=True,\n",
    "      return_attention_mask=True,\n",
    "      return_tensors='pt',\n",
    "    )\n",
    "  \n",
    "  input_ids = encoding['input_ids'].flatten()#.unsqueeze(0)\n",
    "  attention_mask = encoding['attention_mask'].flatten()#.unsqueeze(0)\n",
    "\n",
    "  return input_ids, attention_mask\n",
    "\n",
    "input_ids_list      = []\n",
    "attention_mask_list = []\n",
    "\n",
    "counter = 0\n",
    "for msg in df.initial_message:\n",
    "  if counter % 1000 == 0:\n",
    "    print(counter)\n",
    "  input_ids, attention_mask = tokenize(msg, tokenizer)\n",
    "\n",
    "  input_ids_list.append(input_ids.numpy())\n",
    "  attention_mask_list.append(attention_mask.numpy())\n",
    "  counter += 1\n",
    "\n",
    "input_ids_np      = np.asarray(input_ids_list)\n",
    "attention_mask_np = np.asarray(attention_mask_list)"
   ]
  },
  {
   "cell_type": "code",
   "execution_count": 8,
   "metadata": {
    "colab": {
     "base_uri": "https://localhost:8080/",
     "height": 86
    },
    "id": "f2P5zz_eqnvr",
    "outputId": "67cbfb45-ea2c-4462-e0e1-8a52181ea2f9"
   },
   "outputs": [
    {
     "data": {
      "application/vnd.google.colaboratory.intrinsic+json": {
       "type": "string"
      },
      "text/plain": [
       "'\\nlabels_val, labels_test = train_test_split(\\n  labels_test,\\n  test_size=VAL_SPLIT,\\n  random_state=RANDOM_SEED\\n)\\n\\ninput_ids_val, input_ids_test = train_test_split(\\n  input_ids_test,\\n  test_size=VAL_SPLIT,\\n  random_state=RANDOM_SEED\\n)\\n\\nattention_val_train, attention_mask_test = train_test_split(\\n  attention_mask_test,\\n  test_size=VAL_SPLIT,\\n  random_state=RANDOM_SEED\\n)\\n'"
      ]
     },
     "execution_count": 8,
     "metadata": {
      "tags": []
     },
     "output_type": "execute_result"
    }
   ],
   "source": [
    "RANDOM_SEED = 42\n",
    "\n",
    "labels_train, labels_test = train_test_split(\n",
    "  labels,\n",
    "  test_size=TEST_SPLIT,\n",
    "  random_state=RANDOM_SEED\n",
    ")\n",
    "\n",
    "input_ids_train, input_ids_test = train_test_split(\n",
    "  input_ids_np,\n",
    "  test_size=TEST_SPLIT,\n",
    "  random_state=RANDOM_SEED\n",
    ")\n",
    "\n",
    "attention_mask_train, attention_mask_test = train_test_split(\n",
    "  attention_mask_np,\n",
    "  test_size=TEST_SPLIT,\n",
    "  random_state=RANDOM_SEED\n",
    ")\n",
    "\n",
    "#Optional validation split\n",
    "\"\"\"\n",
    "labels_val, labels_test = train_test_split(\n",
    "  labels_test,\n",
    "  test_size=VAL_SPLIT,\n",
    "  random_state=RANDOM_SEED\n",
    ")\n",
    "\n",
    "input_ids_val, input_ids_test = train_test_split(\n",
    "  input_ids_test,\n",
    "  test_size=VAL_SPLIT,\n",
    "  random_state=RANDOM_SEED\n",
    ")\n",
    "\n",
    "attention_val_train, attention_mask_test = train_test_split(\n",
    "  attention_mask_test,\n",
    "  test_size=VAL_SPLIT,\n",
    "  random_state=RANDOM_SEED\n",
    ")\n",
    "\"\"\""
   ]
  },
  {
   "cell_type": "code",
   "execution_count": 9,
   "metadata": {
    "id": "5WRCBxfLoDth"
   },
   "outputs": [],
   "source": [
    "# Create the dataset for train and test with tokens, attention mask and labels\n",
    "\n",
    "train_set = torch.utils.data.TensorDataset(\n",
    "    torch.tensor(input_ids_train, dtype = torch.long),\n",
    "    torch.tensor(attention_mask_train, dtype = torch.long),\n",
    "    torch.tensor(labels_train, dtype = torch.long)\n",
    ")\n",
    "\n",
    "test_set = torch.utils.data.TensorDataset(\n",
    "    torch.tensor(input_ids_test, dtype = torch.long),\n",
    "    torch.tensor(attention_mask_test, dtype = torch.long),\n",
    "    torch.tensor(labels_test, dtype = torch.long)\n",
    ")"
   ]
  },
  {
   "cell_type": "code",
   "execution_count": 10,
   "metadata": {
    "id": "FQYy0PMusXTp"
   },
   "outputs": [],
   "source": [
    "# Create a dataloader from the two datasets\n",
    "\n",
    "train_loader = torch.utils.data.DataLoader(\n",
    "    train_set,\n",
    "    batch_size = BATCH_SIZE,\n",
    "    shuffle=True,\n",
    ")\n",
    "\n",
    "test_loader = torch.utils.data.DataLoader(\n",
    "    test_set,\n",
    "    batch_size = BATCH_SIZE,\n",
    "    shuffle=False,\n",
    ")"
   ]
  },
  {
   "cell_type": "code",
   "execution_count": 11,
   "metadata": {
    "id": "XBKQrOZ_s5LT"
   },
   "outputs": [],
   "source": [
    "# Define the classfier net\n",
    "\n",
    "class Classifier(nn.Module):\n",
    "  def __init__(self):\n",
    "    super(Classifier, self).__init__()\n",
    "    self.bert    = BertModel.from_pretrained(BERT_MODEL)\n",
    "    self.drop    = nn.Dropout(p = DROPOUT)\n",
    "    self.linear  = nn.Linear(HIDDEN_SIZE, 2)\n",
    "\n",
    "  def forward(self, input_ids, attention_mask):\n",
    "    last_hidden_state, pooler_output = \\\n",
    "      self.bert(\n",
    "        input_ids       = input_ids,\n",
    "        attention_mask  = attention_mask,\n",
    "        return_dict     = False\n",
    "      )\n",
    "\n",
    "    corrupted = self.drop(pooler_output)\n",
    "    out       = self.linear(corrupted)\n",
    "    \n",
    "    return out\n",
    "\n",
    "  def encode(self, input_ids, attention_mask):\n",
    "    return self.bert(\n",
    "      input_ids       = input_ids,\n",
    "      attention_mask  = attention_mask,\n",
    "      return_dict     = False\n",
    "    )"
   ]
  },
  {
   "cell_type": "markdown",
   "metadata": {
    "id": "_HKfzN5goSSq"
   },
   "source": []
  },
  {
   "cell_type": "code",
   "execution_count": 12,
   "metadata": {
    "colab": {
     "base_uri": "https://localhost:8080/",
     "height": 154,
     "referenced_widgets": [
      "d717cf3a79b04e7ab16e12dddb9b004a",
      "95610276f4d043c08e5438c109bc589a",
      "ff8a9d7fc6fa435494295fb2280614cd",
      "75e496f71ede4552be96637225ea7c1b",
      "ecdcb4e4123d4ed0b6097e3359b3b3b9",
      "d741710a25ac416eb87045f12438ecad",
      "b4a543e278194f6bb72ed40ce7c0708c",
      "c69ae0b0d50840e882e8333349b6ad61"
     ]
    },
    "id": "OySbSe8B_Fg8",
    "outputId": "d6054178-7895-48f2-821a-c4b916070c93"
   },
   "outputs": [
    {
     "data": {
      "application/vnd.jupyter.widget-view+json": {
       "model_id": "d717cf3a79b04e7ab16e12dddb9b004a",
       "version_major": 2,
       "version_minor": 0
      },
      "text/plain": [
       "HBox(children=(FloatProgress(value=0.0, description='Downloading', max=714314041.0, style=ProgressStyle(descri…"
      ]
     },
     "metadata": {
      "tags": []
     },
     "output_type": "display_data"
    },
    {
     "name": "stdout",
     "output_type": "stream",
     "text": [
      "\n"
     ]
    },
    {
     "name": "stderr",
     "output_type": "stream",
     "text": [
      "Some weights of the model checkpoint at bert-base-multilingual-cased were not used when initializing BertModel: ['cls.seq_relationship.bias', 'cls.predictions.transform.dense.bias', 'cls.seq_relationship.weight', 'cls.predictions.transform.dense.weight', 'cls.predictions.transform.LayerNorm.weight', 'cls.predictions.transform.LayerNorm.bias', 'cls.predictions.decoder.weight', 'cls.predictions.bias']\n",
      "- This IS expected if you are initializing BertModel from the checkpoint of a model trained on another task or with another architecture (e.g. initializing a BertForSequenceClassification model from a BertForPreTraining model).\n",
      "- This IS NOT expected if you are initializing BertModel from the checkpoint of a model that you expect to be exactly identical (initializing a BertForSequenceClassification model from a BertForSequenceClassification model).\n"
     ]
    },
    {
     "name": "stdout",
     "output_type": "stream",
     "text": [
      "cuda:0\n"
     ]
    }
   ],
   "source": [
    "#Setup clf and move it to GPU\n",
    "\n",
    "clf = Classifier()\n",
    "\n",
    "# load model\n",
    "MODEL_PATH\n",
    "\n",
    "device = torch.device(\"cuda:0\" if torch.cuda.is_available() else \"cpu\")\n",
    "print(device)\n",
    "\n",
    "clf = clf.to(device)"
   ]
  },
  {
   "cell_type": "code",
   "execution_count": 13,
   "metadata": {
    "id": "xM1M6CNIAwl5"
   },
   "outputs": [],
   "source": [
    "optimizer = AdamW(clf.parameters(), lr=2e-5, correct_bias=False)\n",
    "loss = nn.CrossEntropyLoss().to(device)"
   ]
  },
  {
   "cell_type": "code",
   "execution_count": 14,
   "metadata": {
    "id": "R7wx_RhMA4iX"
   },
   "outputs": [],
   "source": [
    "def train():\n",
    "  clf.train()\n",
    "  running_loss = []\n",
    "  labels       = []\n",
    "\n",
    "  correct_predictions = 0\n",
    "\n",
    "  for i, data in enumerate(train_loader):\n",
    "    #if i % 10 == 0:\n",
    "      #print(\"Batch\", i, \"/\", len(train_loader))\n",
    "\n",
    "    input_ids, attention_mask, labels = data\n",
    "    input_ids, attention_mask, labels = data\n",
    "\n",
    "    input_ids       = input_ids.to(device)\n",
    "    attention_mask  = attention_mask.to(device)\n",
    "    labels          = labels.to(device)\n",
    "\n",
    "    out = clf(input_ids, attention_mask)\n",
    "\n",
    "    _, preds = torch.max(out, dim=1)\n",
    "\n",
    "    correct_predictions += torch.sum(preds == labels)\n",
    "\n",
    "    l_ce = loss(out, labels)\n",
    "    running_loss.append(l_ce.item())\n",
    "\n",
    "    l_ce.backward()\n",
    "    nn.utils.clip_grad_norm_(clf.parameters(), max_norm=1.0)\n",
    "    optimizer.step()\n",
    "    optimizer.zero_grad()\n",
    "\n",
    "  mean_loss = np.mean(running_loss)\n",
    "  acc       = correct_predictions.double() / len(labels_train)\n",
    "\n",
    "  print(\"Train_Loss:\", mean_loss, \"Train_ACC\", acc.cpu().numpy())\n",
    "\n",
    "  return mean_loss, acc\n",
    "\n",
    "def eval():\n",
    "  clf.eval()\n",
    "  running_loss = []\n",
    "  correct_predictions = 0\n",
    "  with torch.no_grad():\n",
    "    for i, data in enumerate(test_loader):\n",
    "      #if i % 10 == 0:\n",
    "        #print(\"Batch\", i, \"of\", len(test_loader))\n",
    "\n",
    "      input_ids, attention_mask, labels = data\n",
    "\n",
    "      input_ids       = input_ids.to(device)\n",
    "      attention_mask  = attention_mask.to(device)\n",
    "      labels          = labels.to(device)\n",
    "\n",
    "      out = clf(input_ids, attention_mask)\n",
    "\n",
    "      _, preds = torch.max(out, dim=1)\n",
    "\n",
    "      correct_predictions += torch.sum(preds == labels)\n",
    "\n",
    "      l_ce = loss(out, labels)\n",
    "      running_loss.append(l_ce.item())\n",
    "\n",
    "  mean_loss = np.mean(running_loss)\n",
    "  acc       = correct_predictions.double() / len(labels_test)\n",
    "\n",
    "  print(\"Test_Loss:\", mean_loss, \"Test_ACC\", acc.cpu().numpy())\n",
    "\n",
    "  return mean_loss, acc"
   ]
  },
  {
   "cell_type": "code",
   "execution_count": 14,
   "metadata": {
    "id": "IQxdGmiLFzA0"
   },
   "outputs": [],
   "source": []
  },
  {
   "cell_type": "code",
   "execution_count": 15,
   "metadata": {
    "colab": {
     "base_uri": "https://localhost:8080/"
    },
    "id": "buEH9BExBBFR",
    "outputId": "6efa9f2d-45e2-4e17-ff6d-5ee4a2a4831f"
   },
   "outputs": [
    {
     "name": "stdout",
     "output_type": "stream",
     "text": [
      "Epoch 1/10\n",
      "Train_Loss: 0.5421387233517386 Train_ACC 0.7138382687927106\n",
      "Test_Loss: 0.544937071800232 Test_ACC 0.7570332480818415\n",
      "FINISHED EPOCH\n",
      "Epoch 2/10\n",
      "Train_Loss: 0.3470915932038968 Train_ACC 0.8613325740318907\n",
      "Test_Loss: 0.3955573318898678 Test_ACC 0.843989769820972\n",
      "FINISHED EPOCH\n",
      "Epoch 3/10\n",
      "Train_Loss: 0.23225720068439842 Train_ACC 0.9202733485193622\n",
      "Test_Loss: 0.5098858156614006 Test_ACC 0.8567774936061382\n",
      "FINISHED EPOCH\n",
      "Epoch 4/10\n",
      "Train_Loss: 0.18200792322062295 Train_ACC 0.9447608200455581\n",
      "Test_Loss: 0.5048136948142201 Test_ACC 0.8618925831202047\n",
      "FINISHED EPOCH\n",
      "Epoch 5/10\n",
      "Train_Loss: 0.12730112906958146 Train_ACC 0.9669703872437357\n",
      "Test_Loss: 0.6669903958123178 Test_ACC 0.8465473145780051\n",
      "FINISHED EPOCH\n",
      "Epoch 6/10\n",
      "Train_Loss: 0.0927153174913573 Train_ACC 0.9780751708428246\n",
      "Test_Loss: 0.5983494841959327 Test_ACC 0.864450127877238\n",
      "FINISHED EPOCH\n",
      "Epoch 7/10\n",
      "Train_Loss: 0.07364981941963461 Train_ACC 0.982630979498861\n",
      "Test_Loss: 0.6999121551564894 Test_ACC 0.8746803069053709\n",
      "FINISHED EPOCH\n",
      "Epoch 8/10\n",
      "Train_Loss: 0.055260731097025034 Train_ACC 0.9863325740318906\n",
      "Test_Loss: 0.7812487925263122 Test_ACC 0.8593350383631714\n",
      "FINISHED EPOCH\n",
      "Epoch 9/10\n",
      "Train_Loss: 0.05975535708818246 Train_ACC 0.9874715261958997\n",
      "Test_Loss: 0.9025409643724561 Test_ACC 0.8516624040920717\n",
      "FINISHED EPOCH\n",
      "Epoch 10/10\n",
      "Train_Loss: 0.026382301776042866 Train_ACC 0.9943052391799544\n",
      "Test_Loss: 0.9387272635567934 Test_ACC 0.8516624040920717\n",
      "FINISHED EPOCH\n"
     ]
    }
   ],
   "source": [
    "train_loss_list = []\n",
    "test_loss_list  = []\n",
    "train_acc_list  = []\n",
    "test_acc_list   = []\n",
    "\n",
    "for epoch in range(EPOCHS):\n",
    "  print(f'Epoch {epoch + 1}/{EPOCHS}')\n",
    "  train_loss, train_acc = train()\n",
    "  test_loss, test_acc   = eval()\n",
    "\n",
    "  train_loss_list.append(train_loss)\n",
    "  test_loss_list.append(test_loss)\n",
    "  train_acc_list.append(train_acc.cpu().numpy())\n",
    "  test_acc_list.append(test_acc.cpu().numpy())\n",
    "\n",
    "  print(\"FINISHED EPOCH\")\n",
    "\n",
    "# Save model\n",
    "# torch.save(clf.state_dict(), MODEL_PATH)"
   ]
  },
  {
   "cell_type": "code",
   "execution_count": 26,
   "metadata": {
    "id": "vrjQprusLUyO"
   },
   "outputs": [],
   "source": [
    "torch.save(clf.state_dict(), f'/content/drive/MyDrive/ML_Downloads/clf.bin')"
   ]
  },
  {
   "cell_type": "code",
   "execution_count": 15,
   "metadata": {
    "id": "CTCP9X1d_E_x"
   },
   "outputs": [],
   "source": [
    "epochs = list(range(1, 11))"
   ]
  },
  {
   "cell_type": "code",
   "execution_count": 21,
   "metadata": {
    "colab": {
     "base_uri": "https://localhost:8080/",
     "height": 283
    },
    "id": "X7c24CShSzzh",
    "outputId": "22d55ee3-669f-45d9-d21c-0ef0ad180079"
   },
   "outputs": [
    {
     "data": {
      "image/png": "[encoded data removed]",
      "text/plain": [
       "<Figure size 432x288 with 1 Axes>"
      ]
     },
     "metadata": {
      "needs_background": "light",
      "tags": []
     },
     "output_type": "display_data"
    }
   ],
   "source": [
    "# Data is still overfitting, early stop is also possible, but depends on weight init\n",
    "\n",
    "plt.plot(train_acc_list, label='ACC_Train')\n",
    "plt.plot(test_acc_list, label='ACC_Test')\n",
    "plt.ylabel('ACC')\n",
    "plt.xlabel('Epochs')\n",
    "plt.legend()\n",
    "plt.ylim([0, 1]);\n",
    "plt.show()\n",
    "plt.close()"
   ]
  },
  {
   "cell_type": "code",
   "execution_count": null,
   "metadata": {
    "id": "Laf8VdNZEFqm"
   },
   "outputs": [],
   "source": [
    "plt.plot(train_loss_list, label='Loss_Train')\n",
    "plt.plot(test_loss_list, label='Loss_Test')\n",
    "plt.ylabel('Loss')\n",
    "plt.xlabel('Epochs')\n",
    "plt.legend()\n",
    "plt.ylim([0, 1]);"
   ]
  },
  {
   "cell_type": "code",
   "execution_count": 19,
   "metadata": {
    "id": "lLMne8qbFwAT"
   },
   "outputs": [],
   "source": [
    "clf.eval()\n",
    "predictions = []\n",
    "with torch.no_grad():\n",
    "  for i, data in enumerate(test_loader):\n",
    "\n",
    "    input_ids, attention_mask, labels = data\n",
    "\n",
    "    input_ids       = input_ids.to(device)\n",
    "    attention_mask  = attention_mask.to(device)\n",
    "\n",
    "    out = clf(input_ids, attention_mask)\n",
    "\n",
    "    _, preds = torch.max(out, dim=1)\n",
    "\n",
    "    predictions.extend(preds.cpu().numpy())\n",
    "\n",
    "predictions = np.asarray(predictions)"
   ]
  },
  {
   "cell_type": "code",
   "execution_count": 20,
   "metadata": {
    "colab": {
     "base_uri": "https://localhost:8080/"
    },
    "id": "LLVgmkqMUKVW",
    "outputId": "5d24c49f-a129-4076-acec-ee8cbdef8025"
   },
   "outputs": [
    {
     "name": "stdout",
     "output_type": "stream",
     "text": [
      "[[190  33]\n",
      " [ 25 143]]\n"
     ]
    }
   ],
   "source": [
    "cm = confusion_matrix(labels_test, predictions, [0, 1])\n",
    "print(cm)"
   ]
  }
 ],
 "metadata": {
  "accelerator": "GPU",
  "colab": {
   "collapsed_sections": [],
   "name": "binary_classification.ipynb",
   "provenance": []
  },
  "kernelspec": {
   "display_name": "Python 3",
   "language": "python",
   "name": "python3"
  },
  "language_info": {
   "codemirror_mode": {
    "name": "ipython",
    "version": 3
   },
   "file_extension": ".py",
   "mimetype": "text/x-python",
   "name": "python",
   "nbconvert_exporter": "python",
   "pygments_lexer": "ipython3",
   "version": "3.8.2"
  },
  "widgets": {
   "application/vnd.jupyter.widget-state+json": {
    "032b2394157b44e090925d94190a2233": {
     "model_module": "@jupyter-widgets/controls",
     "model_name": "HBoxModel",
     "state": {
      "_dom_classes": [],
      "_model_module": "@jupyter-widgets/controls",
      "_model_module_version": "1.5.0",
      "_model_name": "HBoxModel",
      "_view_count": null,
      "_view_module": "@jupyter-widgets/controls",
      "_view_module_version": "1.5.0",
      "_view_name": "HBoxView",
      "box_style": "",
      "children": [
       "IPY_MODEL_7d1be1be4d2b44829468a2b2b81b83cb",
       "IPY_MODEL_2769b33941664335a2e00d1cf01d7e5b"
      ],
      "layout": "IPY_MODEL_8018b54f4c0a4cc297b183d33e3347af"
     }
    },
    "0cf0f91c3a1848e4a76a77984107c9e1": {
     "model_module": "@jupyter-widgets/base",
     "model_name": "LayoutModel",
     "state": {
      "_model_module": "@jupyter-widgets/base",
      "_model_module_version": "1.2.0",
      "_model_name": "LayoutModel",
      "_view_count": null,
      "_view_module": "@jupyter-widgets/base",
      "_view_module_version": "1.2.0",
      "_view_name": "LayoutView",
      "align_content": null,
      "align_items": null,
      "align_self": null,
      "border": null,
      "bottom": null,
      "display": null,
      "flex": null,
      "flex_flow": null,
      "grid_area": null,
      "grid_auto_columns": null,
      "grid_auto_flow": null,
      "grid_auto_rows": null,
      "grid_column": null,
      "grid_gap": null,
      "grid_row": null,
      "grid_template_areas": null,
      "grid_template_columns": null,
      "grid_template_rows": null,
      "height": null,
      "justify_content": null,
      "justify_items": null,
      "left": null,
      "margin": null,
      "max_height": null,
      "max_width": null,
      "min_height": null,
      "min_width": null,
      "object_fit": null,
      "object_position": null,
      "order": null,
      "overflow": null,
      "overflow_x": null,
      "overflow_y": null,
      "padding": null,
      "right": null,
      "top": null,
      "visibility": null,
      "width": null
     }
    },
    "0e7db32a533b447792e9e2c53aa9608d": {
     "model_module": "@jupyter-widgets/controls",
     "model_name": "DescriptionStyleModel",
     "state": {
      "_model_module": "@jupyter-widgets/controls",
      "_model_module_version": "1.5.0",
      "_model_name": "DescriptionStyleModel",
      "_view_count": null,
      "_view_module": "@jupyter-widgets/base",
      "_view_module_version": "1.2.0",
      "_view_name": "StyleView",
      "description_width": ""
     }
    },
    "15a04ba45e5a4330856a59df41e732f0": {
     "model_module": "@jupyter-widgets/base",
     "model_name": "LayoutModel",
     "state": {
      "_model_module": "@jupyter-widgets/base",
      "_model_module_version": "1.2.0",
      "_model_name": "LayoutModel",
      "_view_count": null,
      "_view_module": "@jupyter-widgets/base",
      "_view_module_version": "1.2.0",
      "_view_name": "LayoutView",
      "align_content": null,
      "align_items": null,
      "align_self": null,
      "border": null,
      "bottom": null,
      "display": null,
      "flex": null,
      "flex_flow": null,
      "grid_area": null,
      "grid_auto_columns": null,
      "grid_auto_flow": null,
      "grid_auto_rows": null,
      "grid_column": null,
      "grid_gap": null,
      "grid_row": null,
      "grid_template_areas": null,
      "grid_template_columns": null,
      "grid_template_rows": null,
      "height": null,
      "justify_content": null,
      "justify_items": null,
      "left": null,
      "margin": null,
      "max_height": null,
      "max_width": null,
      "min_height": null,
      "min_width": null,
      "object_fit": null,
      "object_position": null,
      "order": null,
      "overflow": null,
      "overflow_x": null,
      "overflow_y": null,
      "padding": null,
      "right": null,
      "top": null,
      "visibility": null,
      "width": null
     }
    },
    "1e97dd7f2a5f4cc2a989083a511088b1": {
     "model_module": "@jupyter-widgets/base",
     "model_name": "LayoutModel",
     "state": {
      "_model_module": "@jupyter-widgets/base",
      "_model_module_version": "1.2.0",
      "_model_name": "LayoutModel",
      "_view_count": null,
      "_view_module": "@jupyter-widgets/base",
      "_view_module_version": "1.2.0",
      "_view_name": "LayoutView",
      "align_content": null,
      "align_items": null,
      "align_self": null,
      "border": null,
      "bottom": null,
      "display": null,
      "flex": null,
      "flex_flow": null,
      "grid_area": null,
      "grid_auto_columns": null,
      "grid_auto_flow": null,
      "grid_auto_rows": null,
      "grid_column": null,
      "grid_gap": null,
      "grid_row": null,
      "grid_template_areas": null,
      "grid_template_columns": null,
      "grid_template_rows": null,
      "height": null,
      "justify_content": null,
      "justify_items": null,
      "left": null,
      "margin": null,
      "max_height": null,
      "max_width": null,
      "min_height": null,
      "min_width": null,
      "object_fit": null,
      "object_position": null,
      "order": null,
      "overflow": null,
      "overflow_x": null,
      "overflow_y": null,
      "padding": null,
      "right": null,
      "top": null,
      "visibility": null,
      "width": null
     }
    },
    "1f48a6fd8bcf4c69b6e9a1022dad5936": {
     "model_module": "@jupyter-widgets/controls",
     "model_name": "HBoxModel",
     "state": {
      "_dom_classes": [],
      "_model_module": "@jupyter-widgets/controls",
      "_model_module_version": "1.5.0",
      "_model_name": "HBoxModel",
      "_view_count": null,
      "_view_module": "@jupyter-widgets/controls",
      "_view_module_version": "1.5.0",
      "_view_name": "HBoxView",
      "box_style": "",
      "children": [
       "IPY_MODEL_95e9ea0db0ed4a46bec819e9007439f1",
       "IPY_MODEL_b78402bc57714030ad2fc0167db49db6"
      ],
      "layout": "IPY_MODEL_1e97dd7f2a5f4cc2a989083a511088b1"
     }
    },
    "2769b33941664335a2e00d1cf01d7e5b": {
     "model_module": "@jupyter-widgets/controls",
     "model_name": "HTMLModel",
     "state": {
      "_dom_classes": [],
      "_model_module": "@jupyter-widgets/controls",
      "_model_module_version": "1.5.0",
      "_model_name": "HTMLModel",
      "_view_count": null,
      "_view_module": "@jupyter-widgets/controls",
      "_view_module_version": "1.5.0",
      "_view_name": "HTMLView",
      "description": "",
      "description_tooltip": null,
      "layout": "IPY_MODEL_e640b59f2260479090475caafd9c1039",
      "placeholder": "​",
      "style": "IPY_MODEL_5ba3e6b90e434a8f83438d09c5fe654a",
      "value": " 1.96M/1.96M [00:01&lt;00:00, 1.84MB/s]"
     }
    },
    "2b6ef1e384cc412a938bd59c148889f5": {
     "model_module": "@jupyter-widgets/controls",
     "model_name": "HTMLModel",
     "state": {
      "_dom_classes": [],
      "_model_module": "@jupyter-widgets/controls",
      "_model_module_version": "1.5.0",
      "_model_name": "HTMLModel",
      "_view_count": null,
      "_view_module": "@jupyter-widgets/controls",
      "_view_module_version": "1.5.0",
      "_view_name": "HTMLView",
      "description": "",
      "description_tooltip": null,
      "layout": "IPY_MODEL_4fa9096ad03b41b3b2829ec48ed7cb18",
      "placeholder": "​",
      "style": "IPY_MODEL_a0299159c8e44c8da3c6d79e4d9c8294",
      "value": " 625/625 [00:00&lt;00:00, 14.0kB/s]"
     }
    },
    "344357bd4280457d8d2cefbc2ff6f054": {
     "model_module": "@jupyter-widgets/controls",
     "model_name": "HBoxModel",
     "state": {
      "_dom_classes": [],
      "_model_module": "@jupyter-widgets/controls",
      "_model_module_version": "1.5.0",
      "_model_name": "HBoxModel",
      "_view_count": null,
      "_view_module": "@jupyter-widgets/controls",
      "_view_module_version": "1.5.0",
      "_view_name": "HBoxView",
      "box_style": "",
      "children": [
       "IPY_MODEL_58791e72f57f4dc084219b5ae6b00b60",
       "IPY_MODEL_2b6ef1e384cc412a938bd59c148889f5"
      ],
      "layout": "IPY_MODEL_706b829cb10441299d98029fe367b7e9"
     }
    },
    "4fa9096ad03b41b3b2829ec48ed7cb18": {
     "model_module": "@jupyter-widgets/base",
     "model_name": "LayoutModel",
     "state": {
      "_model_module": "@jupyter-widgets/base",
      "_model_module_version": "1.2.0",
      "_model_name": "LayoutModel",
      "_view_count": null,
      "_view_module": "@jupyter-widgets/base",
      "_view_module_version": "1.2.0",
      "_view_name": "LayoutView",
      "align_content": null,
      "align_items": null,
      "align_self": null,
      "border": null,
      "bottom": null,
      "display": null,
      "flex": null,
      "flex_flow": null,
      "grid_area": null,
      "grid_auto_columns": null,
      "grid_auto_flow": null,
      "grid_auto_rows": null,
      "grid_column": null,
      "grid_gap": null,
      "grid_row": null,
      "grid_template_areas": null,
      "grid_template_columns": null,
      "grid_template_rows": null,
      "height": null,
      "justify_content": null,
      "justify_items": null,
      "left": null,
      "margin": null,
      "max_height": null,
      "max_width": null,
      "min_height": null,
      "min_width": null,
      "object_fit": null,
      "object_position": null,
      "order": null,
      "overflow": null,
      "overflow_x": null,
      "overflow_y": null,
      "padding": null,
      "right": null,
      "top": null,
      "visibility": null,
      "width": null
     }
    },
    "58791e72f57f4dc084219b5ae6b00b60": {
     "model_module": "@jupyter-widgets/controls",
     "model_name": "FloatProgressModel",
     "state": {
      "_dom_classes": [],
      "_model_module": "@jupyter-widgets/controls",
      "_model_module_version": "1.5.0",
      "_model_name": "FloatProgressModel",
      "_view_count": null,
      "_view_module": "@jupyter-widgets/controls",
      "_view_module_version": "1.5.0",
      "_view_name": "ProgressView",
      "bar_style": "success",
      "description": "Downloading: 100%",
      "description_tooltip": null,
      "layout": "IPY_MODEL_c62026e78584462cbbadedcf712841bc",
      "max": 625,
      "min": 0,
      "orientation": "horizontal",
      "style": "IPY_MODEL_ceb0052027914c61b4713fa4fafc4fc9",
      "value": 625
     }
    },
    "5ba3e6b90e434a8f83438d09c5fe654a": {
     "model_module": "@jupyter-widgets/controls",
     "model_name": "DescriptionStyleModel",
     "state": {
      "_model_module": "@jupyter-widgets/controls",
      "_model_module_version": "1.5.0",
      "_model_name": "DescriptionStyleModel",
      "_view_count": null,
      "_view_module": "@jupyter-widgets/base",
      "_view_module_version": "1.2.0",
      "_view_name": "StyleView",
      "description_width": ""
     }
    },
    "61a70f76fb6543859b962513b89114c9": {
     "model_module": "@jupyter-widgets/base",
     "model_name": "LayoutModel",
     "state": {
      "_model_module": "@jupyter-widgets/base",
      "_model_module_version": "1.2.0",
      "_model_name": "LayoutModel",
      "_view_count": null,
      "_view_module": "@jupyter-widgets/base",
      "_view_module_version": "1.2.0",
      "_view_name": "LayoutView",
      "align_content": null,
      "align_items": null,
      "align_self": null,
      "border": null,
      "bottom": null,
      "display": null,
      "flex": null,
      "flex_flow": null,
      "grid_area": null,
      "grid_auto_columns": null,
      "grid_auto_flow": null,
      "grid_auto_rows": null,
      "grid_column": null,
      "grid_gap": null,
      "grid_row": null,
      "grid_template_areas": null,
      "grid_template_columns": null,
      "grid_template_rows": null,
      "height": null,
      "justify_content": null,
      "justify_items": null,
      "left": null,
      "margin": null,
      "max_height": null,
      "max_width": null,
      "min_height": null,
      "min_width": null,
      "object_fit": null,
      "object_position": null,
      "order": null,
      "overflow": null,
      "overflow_x": null,
      "overflow_y": null,
      "padding": null,
      "right": null,
      "top": null,
      "visibility": null,
      "width": null
     }
    },
    "706b829cb10441299d98029fe367b7e9": {
     "model_module": "@jupyter-widgets/base",
     "model_name": "LayoutModel",
     "state": {
      "_model_module": "@jupyter-widgets/base",
      "_model_module_version": "1.2.0",
      "_model_name": "LayoutModel",
      "_view_count": null,
      "_view_module": "@jupyter-widgets/base",
      "_view_module_version": "1.2.0",
      "_view_name": "LayoutView",
      "align_content": null,
      "align_items": null,
      "align_self": null,
      "border": null,
      "bottom": null,
      "display": null,
      "flex": null,
      "flex_flow": null,
      "grid_area": null,
      "grid_auto_columns": null,
      "grid_auto_flow": null,
      "grid_auto_rows": null,
      "grid_column": null,
      "grid_gap": null,
      "grid_row": null,
      "grid_template_areas": null,
      "grid_template_columns": null,
      "grid_template_rows": null,
      "height": null,
      "justify_content": null,
      "justify_items": null,
      "left": null,
      "margin": null,
      "max_height": null,
      "max_width": null,
      "min_height": null,
      "min_width": null,
      "object_fit": null,
      "object_position": null,
      "order": null,
      "overflow": null,
      "overflow_x": null,
      "overflow_y": null,
      "padding": null,
      "right": null,
      "top": null,
      "visibility": null,
      "width": null
     }
    },
    "71f8ed64d74945a68d7d243075015ee2": {
     "model_module": "@jupyter-widgets/controls",
     "model_name": "ProgressStyleModel",
     "state": {
      "_model_module": "@jupyter-widgets/controls",
      "_model_module_version": "1.5.0",
      "_model_name": "ProgressStyleModel",
      "_view_count": null,
      "_view_module": "@jupyter-widgets/base",
      "_view_module_version": "1.2.0",
      "_view_name": "StyleView",
      "bar_color": null,
      "description_width": "initial"
     }
    },
    "73b14874dd5f41e3a2313f4f5be8bfb3": {
     "model_module": "@jupyter-widgets/base",
     "model_name": "LayoutModel",
     "state": {
      "_model_module": "@jupyter-widgets/base",
      "_model_module_version": "1.2.0",
      "_model_name": "LayoutModel",
      "_view_count": null,
      "_view_module": "@jupyter-widgets/base",
      "_view_module_version": "1.2.0",
      "_view_name": "LayoutView",
      "align_content": null,
      "align_items": null,
      "align_self": null,
      "border": null,
      "bottom": null,
      "display": null,
      "flex": null,
      "flex_flow": null,
      "grid_area": null,
      "grid_auto_columns": null,
      "grid_auto_flow": null,
      "grid_auto_rows": null,
      "grid_column": null,
      "grid_gap": null,
      "grid_row": null,
      "grid_template_areas": null,
      "grid_template_columns": null,
      "grid_template_rows": null,
      "height": null,
      "justify_content": null,
      "justify_items": null,
      "left": null,
      "margin": null,
      "max_height": null,
      "max_width": null,
      "min_height": null,
      "min_width": null,
      "object_fit": null,
      "object_position": null,
      "order": null,
      "overflow": null,
      "overflow_x": null,
      "overflow_y": null,
      "padding": null,
      "right": null,
      "top": null,
      "visibility": null,
      "width": null
     }
    },
    "75e496f71ede4552be96637225ea7c1b": {
     "model_module": "@jupyter-widgets/controls",
     "model_name": "HTMLModel",
     "state": {
      "_dom_classes": [],
      "_model_module": "@jupyter-widgets/controls",
      "_model_module_version": "1.5.0",
      "_model_name": "HTMLModel",
      "_view_count": null,
      "_view_module": "@jupyter-widgets/controls",
      "_view_module_version": "1.5.0",
      "_view_name": "HTMLView",
      "description": "",
      "description_tooltip": null,
      "layout": "IPY_MODEL_c69ae0b0d50840e882e8333349b6ad61",
      "placeholder": "​",
      "style": "IPY_MODEL_b4a543e278194f6bb72ed40ce7c0708c",
      "value": " 714M/714M [00:29&lt;00:00, 24.3MB/s]"
     }
    },
    "7d1be1be4d2b44829468a2b2b81b83cb": {
     "model_module": "@jupyter-widgets/controls",
     "model_name": "FloatProgressModel",
     "state": {
      "_dom_classes": [],
      "_model_module": "@jupyter-widgets/controls",
      "_model_module_version": "1.5.0",
      "_model_name": "FloatProgressModel",
      "_view_count": null,
      "_view_module": "@jupyter-widgets/controls",
      "_view_module_version": "1.5.0",
      "_view_name": "ProgressView",
      "bar_style": "success",
      "description": "Downloading: 100%",
      "description_tooltip": null,
      "layout": "IPY_MODEL_73b14874dd5f41e3a2313f4f5be8bfb3",
      "max": 1961828,
      "min": 0,
      "orientation": "horizontal",
      "style": "IPY_MODEL_8b36bdbf9dc44b498893a493d6cb7f25",
      "value": 1961828
     }
    },
    "8018b54f4c0a4cc297b183d33e3347af": {
     "model_module": "@jupyter-widgets/base",
     "model_name": "LayoutModel",
     "state": {
      "_model_module": "@jupyter-widgets/base",
      "_model_module_version": "1.2.0",
      "_model_name": "LayoutModel",
      "_view_count": null,
      "_view_module": "@jupyter-widgets/base",
      "_view_module_version": "1.2.0",
      "_view_name": "LayoutView",
      "align_content": null,
      "align_items": null,
      "align_self": null,
      "border": null,
      "bottom": null,
      "display": null,
      "flex": null,
      "flex_flow": null,
      "grid_area": null,
      "grid_auto_columns": null,
      "grid_auto_flow": null,
      "grid_auto_rows": null,
      "grid_column": null,
      "grid_gap": null,
      "grid_row": null,
      "grid_template_areas": null,
      "grid_template_columns": null,
      "grid_template_rows": null,
      "height": null,
      "justify_content": null,
      "justify_items": null,
      "left": null,
      "margin": null,
      "max_height": null,
      "max_width": null,
      "min_height": null,
      "min_width": null,
      "object_fit": null,
      "object_position": null,
      "order": null,
      "overflow": null,
      "overflow_x": null,
      "overflow_y": null,
      "padding": null,
      "right": null,
      "top": null,
      "visibility": null,
      "width": null
     }
    },
    "83332c10fd644b8bbd7351e56a2616d3": {
     "model_module": "@jupyter-widgets/controls",
     "model_name": "FloatProgressModel",
     "state": {
      "_dom_classes": [],
      "_model_module": "@jupyter-widgets/controls",
      "_model_module_version": "1.5.0",
      "_model_name": "FloatProgressModel",
      "_view_count": null,
      "_view_module": "@jupyter-widgets/controls",
      "_view_module_version": "1.5.0",
      "_view_name": "ProgressView",
      "bar_style": "success",
      "description": "Downloading: 100%",
      "description_tooltip": null,
      "layout": "IPY_MODEL_c137a8e5bba44c9796b05fb413f7caad",
      "max": 995526,
      "min": 0,
      "orientation": "horizontal",
      "style": "IPY_MODEL_ffbfe11c89f646b8b56ec3fa194553d4",
      "value": 995526
     }
    },
    "8b309b1b6dcb42a1bd0c10a843770cb4": {
     "model_module": "@jupyter-widgets/base",
     "model_name": "LayoutModel",
     "state": {
      "_model_module": "@jupyter-widgets/base",
      "_model_module_version": "1.2.0",
      "_model_name": "LayoutModel",
      "_view_count": null,
      "_view_module": "@jupyter-widgets/base",
      "_view_module_version": "1.2.0",
      "_view_name": "LayoutView",
      "align_content": null,
      "align_items": null,
      "align_self": null,
      "border": null,
      "bottom": null,
      "display": null,
      "flex": null,
      "flex_flow": null,
      "grid_area": null,
      "grid_auto_columns": null,
      "grid_auto_flow": null,
      "grid_auto_rows": null,
      "grid_column": null,
      "grid_gap": null,
      "grid_row": null,
      "grid_template_areas": null,
      "grid_template_columns": null,
      "grid_template_rows": null,
      "height": null,
      "justify_content": null,
      "justify_items": null,
      "left": null,
      "margin": null,
      "max_height": null,
      "max_width": null,
      "min_height": null,
      "min_width": null,
      "object_fit": null,
      "object_position": null,
      "order": null,
      "overflow": null,
      "overflow_x": null,
      "overflow_y": null,
      "padding": null,
      "right": null,
      "top": null,
      "visibility": null,
      "width": null
     }
    },
    "8b36bdbf9dc44b498893a493d6cb7f25": {
     "model_module": "@jupyter-widgets/controls",
     "model_name": "ProgressStyleModel",
     "state": {
      "_model_module": "@jupyter-widgets/controls",
      "_model_module_version": "1.5.0",
      "_model_name": "ProgressStyleModel",
      "_view_count": null,
      "_view_module": "@jupyter-widgets/base",
      "_view_module_version": "1.2.0",
      "_view_name": "StyleView",
      "bar_color": null,
      "description_width": "initial"
     }
    },
    "95610276f4d043c08e5438c109bc589a": {
     "model_module": "@jupyter-widgets/base",
     "model_name": "LayoutModel",
     "state": {
      "_model_module": "@jupyter-widgets/base",
      "_model_module_version": "1.2.0",
      "_model_name": "LayoutModel",
      "_view_count": null,
      "_view_module": "@jupyter-widgets/base",
      "_view_module_version": "1.2.0",
      "_view_name": "LayoutView",
      "align_content": null,
      "align_items": null,
      "align_self": null,
      "border": null,
      "bottom": null,
      "display": null,
      "flex": null,
      "flex_flow": null,
      "grid_area": null,
      "grid_auto_columns": null,
      "grid_auto_flow": null,
      "grid_auto_rows": null,
      "grid_column": null,
      "grid_gap": null,
      "grid_row": null,
      "grid_template_areas": null,
      "grid_template_columns": null,
      "grid_template_rows": null,
      "height": null,
      "justify_content": null,
      "justify_items": null,
      "left": null,
      "margin": null,
      "max_height": null,
      "max_width": null,
      "min_height": null,
      "min_width": null,
      "object_fit": null,
      "object_position": null,
      "order": null,
      "overflow": null,
      "overflow_x": null,
      "overflow_y": null,
      "padding": null,
      "right": null,
      "top": null,
      "visibility": null,
      "width": null
     }
    },
    "95e9ea0db0ed4a46bec819e9007439f1": {
     "model_module": "@jupyter-widgets/controls",
     "model_name": "FloatProgressModel",
     "state": {
      "_dom_classes": [],
      "_model_module": "@jupyter-widgets/controls",
      "_model_module_version": "1.5.0",
      "_model_name": "FloatProgressModel",
      "_view_count": null,
      "_view_module": "@jupyter-widgets/controls",
      "_view_module_version": "1.5.0",
      "_view_name": "ProgressView",
      "bar_style": "success",
      "description": "Downloading: 100%",
      "description_tooltip": null,
      "layout": "IPY_MODEL_15a04ba45e5a4330856a59df41e732f0",
      "max": 29,
      "min": 0,
      "orientation": "horizontal",
      "style": "IPY_MODEL_71f8ed64d74945a68d7d243075015ee2",
      "value": 29
     }
    },
    "966112b9ce8c44498cf899610068dd6b": {
     "model_module": "@jupyter-widgets/controls",
     "model_name": "DescriptionStyleModel",
     "state": {
      "_model_module": "@jupyter-widgets/controls",
      "_model_module_version": "1.5.0",
      "_model_name": "DescriptionStyleModel",
      "_view_count": null,
      "_view_module": "@jupyter-widgets/base",
      "_view_module_version": "1.2.0",
      "_view_name": "StyleView",
      "description_width": ""
     }
    },
    "a0299159c8e44c8da3c6d79e4d9c8294": {
     "model_module": "@jupyter-widgets/controls",
     "model_name": "DescriptionStyleModel",
     "state": {
      "_model_module": "@jupyter-widgets/controls",
      "_model_module_version": "1.5.0",
      "_model_name": "DescriptionStyleModel",
      "_view_count": null,
      "_view_module": "@jupyter-widgets/base",
      "_view_module_version": "1.2.0",
      "_view_name": "StyleView",
      "description_width": ""
     }
    },
    "b4a543e278194f6bb72ed40ce7c0708c": {
     "model_module": "@jupyter-widgets/controls",
     "model_name": "DescriptionStyleModel",
     "state": {
      "_model_module": "@jupyter-widgets/controls",
      "_model_module_version": "1.5.0",
      "_model_name": "DescriptionStyleModel",
      "_view_count": null,
      "_view_module": "@jupyter-widgets/base",
      "_view_module_version": "1.2.0",
      "_view_name": "StyleView",
      "description_width": ""
     }
    },
    "b78402bc57714030ad2fc0167db49db6": {
     "model_module": "@jupyter-widgets/controls",
     "model_name": "HTMLModel",
     "state": {
      "_dom_classes": [],
      "_model_module": "@jupyter-widgets/controls",
      "_model_module_version": "1.5.0",
      "_model_name": "HTMLModel",
      "_view_count": null,
      "_view_module": "@jupyter-widgets/controls",
      "_view_module_version": "1.5.0",
      "_view_name": "HTMLView",
      "description": "",
      "description_tooltip": null,
      "layout": "IPY_MODEL_0cf0f91c3a1848e4a76a77984107c9e1",
      "placeholder": "​",
      "style": "IPY_MODEL_966112b9ce8c44498cf899610068dd6b",
      "value": " 29.0/29.0 [00:00&lt;00:00, 40.6B/s]"
     }
    },
    "c137a8e5bba44c9796b05fb413f7caad": {
     "model_module": "@jupyter-widgets/base",
     "model_name": "LayoutModel",
     "state": {
      "_model_module": "@jupyter-widgets/base",
      "_model_module_version": "1.2.0",
      "_model_name": "LayoutModel",
      "_view_count": null,
      "_view_module": "@jupyter-widgets/base",
      "_view_module_version": "1.2.0",
      "_view_name": "LayoutView",
      "align_content": null,
      "align_items": null,
      "align_self": null,
      "border": null,
      "bottom": null,
      "display": null,
      "flex": null,
      "flex_flow": null,
      "grid_area": null,
      "grid_auto_columns": null,
      "grid_auto_flow": null,
      "grid_auto_rows": null,
      "grid_column": null,
      "grid_gap": null,
      "grid_row": null,
      "grid_template_areas": null,
      "grid_template_columns": null,
      "grid_template_rows": null,
      "height": null,
      "justify_content": null,
      "justify_items": null,
      "left": null,
      "margin": null,
      "max_height": null,
      "max_width": null,
      "min_height": null,
      "min_width": null,
      "object_fit": null,
      "object_position": null,
      "order": null,
      "overflow": null,
      "overflow_x": null,
      "overflow_y": null,
      "padding": null,
      "right": null,
      "top": null,
      "visibility": null,
      "width": null
     }
    },
    "c62026e78584462cbbadedcf712841bc": {
     "model_module": "@jupyter-widgets/base",
     "model_name": "LayoutModel",
     "state": {
      "_model_module": "@jupyter-widgets/base",
      "_model_module_version": "1.2.0",
      "_model_name": "LayoutModel",
      "_view_count": null,
      "_view_module": "@jupyter-widgets/base",
      "_view_module_version": "1.2.0",
      "_view_name": "LayoutView",
      "align_content": null,
      "align_items": null,
      "align_self": null,
      "border": null,
      "bottom": null,
      "display": null,
      "flex": null,
      "flex_flow": null,
      "grid_area": null,
      "grid_auto_columns": null,
      "grid_auto_flow": null,
      "grid_auto_rows": null,
      "grid_column": null,
      "grid_gap": null,
      "grid_row": null,
      "grid_template_areas": null,
      "grid_template_columns": null,
      "grid_template_rows": null,
      "height": null,
      "justify_content": null,
      "justify_items": null,
      "left": null,
      "margin": null,
      "max_height": null,
      "max_width": null,
      "min_height": null,
      "min_width": null,
      "object_fit": null,
      "object_position": null,
      "order": null,
      "overflow": null,
      "overflow_x": null,
      "overflow_y": null,
      "padding": null,
      "right": null,
      "top": null,
      "visibility": null,
      "width": null
     }
    },
    "c69ae0b0d50840e882e8333349b6ad61": {
     "model_module": "@jupyter-widgets/base",
     "model_name": "LayoutModel",
     "state": {
      "_model_module": "@jupyter-widgets/base",
      "_model_module_version": "1.2.0",
      "_model_name": "LayoutModel",
      "_view_count": null,
      "_view_module": "@jupyter-widgets/base",
      "_view_module_version": "1.2.0",
      "_view_name": "LayoutView",
      "align_content": null,
      "align_items": null,
      "align_self": null,
      "border": null,
      "bottom": null,
      "display": null,
      "flex": null,
      "flex_flow": null,
      "grid_area": null,
      "grid_auto_columns": null,
      "grid_auto_flow": null,
      "grid_auto_rows": null,
      "grid_column": null,
      "grid_gap": null,
      "grid_row": null,
      "grid_template_areas": null,
      "grid_template_columns": null,
      "grid_template_rows": null,
      "height": null,
      "justify_content": null,
      "justify_items": null,
      "left": null,
      "margin": null,
      "max_height": null,
      "max_width": null,
      "min_height": null,
      "min_width": null,
      "object_fit": null,
      "object_position": null,
      "order": null,
      "overflow": null,
      "overflow_x": null,
      "overflow_y": null,
      "padding": null,
      "right": null,
      "top": null,
      "visibility": null,
      "width": null
     }
    },
    "ceb0052027914c61b4713fa4fafc4fc9": {
     "model_module": "@jupyter-widgets/controls",
     "model_name": "ProgressStyleModel",
     "state": {
      "_model_module": "@jupyter-widgets/controls",
      "_model_module_version": "1.5.0",
      "_model_name": "ProgressStyleModel",
      "_view_count": null,
      "_view_module": "@jupyter-widgets/base",
      "_view_module_version": "1.2.0",
      "_view_name": "StyleView",
      "bar_color": null,
      "description_width": "initial"
     }
    },
    "d0022a2319ae478591ee868b0a4c5331": {
     "model_module": "@jupyter-widgets/controls",
     "model_name": "HTMLModel",
     "state": {
      "_dom_classes": [],
      "_model_module": "@jupyter-widgets/controls",
      "_model_module_version": "1.5.0",
      "_model_name": "HTMLModel",
      "_view_count": null,
      "_view_module": "@jupyter-widgets/controls",
      "_view_module_version": "1.5.0",
      "_view_name": "HTMLView",
      "description": "",
      "description_tooltip": null,
      "layout": "IPY_MODEL_61a70f76fb6543859b962513b89114c9",
      "placeholder": "​",
      "style": "IPY_MODEL_0e7db32a533b447792e9e2c53aa9608d",
      "value": " 996k/996k [00:03&lt;00:00, 300kB/s]"
     }
    },
    "d717cf3a79b04e7ab16e12dddb9b004a": {
     "model_module": "@jupyter-widgets/controls",
     "model_name": "HBoxModel",
     "state": {
      "_dom_classes": [],
      "_model_module": "@jupyter-widgets/controls",
      "_model_module_version": "1.5.0",
      "_model_name": "HBoxModel",
      "_view_count": null,
      "_view_module": "@jupyter-widgets/controls",
      "_view_module_version": "1.5.0",
      "_view_name": "HBoxView",
      "box_style": "",
      "children": [
       "IPY_MODEL_ff8a9d7fc6fa435494295fb2280614cd",
       "IPY_MODEL_75e496f71ede4552be96637225ea7c1b"
      ],
      "layout": "IPY_MODEL_95610276f4d043c08e5438c109bc589a"
     }
    },
    "d741710a25ac416eb87045f12438ecad": {
     "model_module": "@jupyter-widgets/base",
     "model_name": "LayoutModel",
     "state": {
      "_model_module": "@jupyter-widgets/base",
      "_model_module_version": "1.2.0",
      "_model_name": "LayoutModel",
      "_view_count": null,
      "_view_module": "@jupyter-widgets/base",
      "_view_module_version": "1.2.0",
      "_view_name": "LayoutView",
      "align_content": null,
      "align_items": null,
      "align_self": null,
      "border": null,
      "bottom": null,
      "display": null,
      "flex": null,
      "flex_flow": null,
      "grid_area": null,
      "grid_auto_columns": null,
      "grid_auto_flow": null,
      "grid_auto_rows": null,
      "grid_column": null,
      "grid_gap": null,
      "grid_row": null,
      "grid_template_areas": null,
      "grid_template_columns": null,
      "grid_template_rows": null,
      "height": null,
      "justify_content": null,
      "justify_items": null,
      "left": null,
      "margin": null,
      "max_height": null,
      "max_width": null,
      "min_height": null,
      "min_width": null,
      "object_fit": null,
      "object_position": null,
      "order": null,
      "overflow": null,
      "overflow_x": null,
      "overflow_y": null,
      "padding": null,
      "right": null,
      "top": null,
      "visibility": null,
      "width": null
     }
    },
    "e640b59f2260479090475caafd9c1039": {
     "model_module": "@jupyter-widgets/base",
     "model_name": "LayoutModel",
     "state": {
      "_model_module": "@jupyter-widgets/base",
      "_model_module_version": "1.2.0",
      "_model_name": "LayoutModel",
      "_view_count": null,
      "_view_module": "@jupyter-widgets/base",
      "_view_module_version": "1.2.0",
      "_view_name": "LayoutView",
      "align_content": null,
      "align_items": null,
      "align_self": null,
      "border": null,
      "bottom": null,
      "display": null,
      "flex": null,
      "flex_flow": null,
      "grid_area": null,
      "grid_auto_columns": null,
      "grid_auto_flow": null,
      "grid_auto_rows": null,
      "grid_column": null,
      "grid_gap": null,
      "grid_row": null,
      "grid_template_areas": null,
      "grid_template_columns": null,
      "grid_template_rows": null,
      "height": null,
      "justify_content": null,
      "justify_items": null,
      "left": null,
      "margin": null,
      "max_height": null,
      "max_width": null,
      "min_height": null,
      "min_width": null,
      "object_fit": null,
      "object_position": null,
      "order": null,
      "overflow": null,
      "overflow_x": null,
      "overflow_y": null,
      "padding": null,
      "right": null,
      "top": null,
      "visibility": null,
      "width": null
     }
    },
    "e6a2551d32204bd295e30898308c1079": {
     "model_module": "@jupyter-widgets/controls",
     "model_name": "HBoxModel",
     "state": {
      "_dom_classes": [],
      "_model_module": "@jupyter-widgets/controls",
      "_model_module_version": "1.5.0",
      "_model_name": "HBoxModel",
      "_view_count": null,
      "_view_module": "@jupyter-widgets/controls",
      "_view_module_version": "1.5.0",
      "_view_name": "HBoxView",
      "box_style": "",
      "children": [
       "IPY_MODEL_83332c10fd644b8bbd7351e56a2616d3",
       "IPY_MODEL_d0022a2319ae478591ee868b0a4c5331"
      ],
      "layout": "IPY_MODEL_8b309b1b6dcb42a1bd0c10a843770cb4"
     }
    },
    "ecdcb4e4123d4ed0b6097e3359b3b3b9": {
     "model_module": "@jupyter-widgets/controls",
     "model_name": "ProgressStyleModel",
     "state": {
      "_model_module": "@jupyter-widgets/controls",
      "_model_module_version": "1.5.0",
      "_model_name": "ProgressStyleModel",
      "_view_count": null,
      "_view_module": "@jupyter-widgets/base",
      "_view_module_version": "1.2.0",
      "_view_name": "StyleView",
      "bar_color": null,
      "description_width": "initial"
     }
    },
    "ff8a9d7fc6fa435494295fb2280614cd": {
     "model_module": "@jupyter-widgets/controls",
     "model_name": "FloatProgressModel",
     "state": {
      "_dom_classes": [],
      "_model_module": "@jupyter-widgets/controls",
      "_model_module_version": "1.5.0",
      "_model_name": "FloatProgressModel",
      "_view_count": null,
      "_view_module": "@jupyter-widgets/controls",
      "_view_module_version": "1.5.0",
      "_view_name": "ProgressView",
      "bar_style": "success",
      "description": "Downloading: 100%",
      "description_tooltip": null,
      "layout": "IPY_MODEL_d741710a25ac416eb87045f12438ecad",
      "max": 714314041,
      "min": 0,
      "orientation": "horizontal",
      "style": "IPY_MODEL_ecdcb4e4123d4ed0b6097e3359b3b3b9",
      "value": 714314041
     }
    },
    "ffbfe11c89f646b8b56ec3fa194553d4": {
     "model_module": "@jupyter-widgets/controls",
     "model_name": "ProgressStyleModel",
     "state": {
      "_model_module": "@jupyter-widgets/controls",
      "_model_module_version": "1.5.0",
      "_model_name": "ProgressStyleModel",
      "_view_count": null,
      "_view_module": "@jupyter-widgets/base",
      "_view_module_version": "1.2.0",
      "_view_name": "StyleView",
      "bar_color": null,
      "description_width": "initial"
     }
    }
   }
  }
 },
 "nbformat": 4,
 "nbformat_minor": 1
}
